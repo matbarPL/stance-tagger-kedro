{
 "cells": [
  {
   "cell_type": "code",
   "execution_count": 1,
   "metadata": {},
   "outputs": [
    {
     "data": {
      "text/plain": [
       "'C:\\\\Users\\\\Mateusz\\\\OneDrive\\\\Informatyka 6 semestr\\\\stance-tagger-kedro\\\\stance-tagger-kedro'"
      ]
     },
     "execution_count": 1,
     "metadata": {},
     "output_type": "execute_result"
    }
   ],
   "source": [
    "import os\n",
    "os.getcwd()"
   ]
  },
  {
   "cell_type": "code",
   "execution_count": 48,
   "metadata": {},
   "outputs": [],
   "source": [
    "import pandas as pd\n",
    "file_path = \"C:\\\\Users\\\\Mateusz\\\\OneDrive\\\\Informatyka 6 semestr\\\\stance-tagger-kedro\\\\web-app\\\\db-utils\\\\mydump.csv\"\n",
    "df = pd.read_csv(file_path,delimiter = \",\", parse_dates= ['date'], index_col=0,names=['date','index','Tweet','None','Stance','Opinion Towards','Setiment','Target'])"
   ]
  },
  {
   "cell_type": "code",
   "execution_count": 49,
   "metadata": {
    "scrolled": true
   },
   "outputs": [],
   "source": [
    "df.drop(columns=['index', 'None'], inplace = True)"
   ]
  },
  {
   "cell_type": "code",
   "execution_count": 50,
   "metadata": {},
   "outputs": [],
   "source": [
    "df[\"date\"] = df[\"date\"].dt.day"
   ]
  },
  {
   "cell_type": "code",
   "execution_count": 53,
   "metadata": {},
   "outputs": [
    {
     "data": {
      "text/plain": [
       "array([ 98, 119, 115, 135, 179, 142, 145, 131, 135, 136, 144, 113, 143,\n",
       "       127, 127, 138, 140, 120, 137, 125, 136, 145, 129, 134, 155, 114,\n",
       "       134, 135, 138,  90, 104], dtype=int64)"
      ]
     },
     "execution_count": 53,
     "metadata": {},
     "output_type": "execute_result"
    }
   ],
   "source": [
    "df.groupby('date').count()[\"Tweet\"].values"
   ]
  }
 ],
 "metadata": {
  "kernelspec": {
   "display_name": "StanceTaggerKedro",
   "language": "python",
   "name": "python3"
  },
  "language_info": {
   "codemirror_mode": {
    "name": "ipython",
    "version": 3
   },
   "file_extension": ".py",
   "mimetype": "text/x-python",
   "name": "python",
   "nbconvert_exporter": "python",
   "pygments_lexer": "ipython3",
   "version": "3.6.5"
  }
 },
 "nbformat": 4,
 "nbformat_minor": 4
}
