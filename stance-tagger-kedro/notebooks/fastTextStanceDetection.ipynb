{
 "cells": [
  {
   "cell_type": "code",
   "execution_count": 1,
   "metadata": {
    "scrolled": true
   },
   "outputs": [],
   "source": [
    "import fasttext\n",
    "import pandas as pd\n",
    "import os\n",
    "from nltk.stem.snowball import SnowballStemmer\n",
    "import string\n",
    "from nltk.corpus import words\n",
    "from nltk.tokenize import word_tokenize\n",
    "import re\n",
    "import csv\n",
    "import numpy as np"
   ]
  },
  {
   "cell_type": "markdown",
   "metadata": {},
   "source": [
    "### creating pipeline for preprocessing texts"
   ]
  },
  {
   "cell_type": "code",
   "execution_count": null,
   "metadata": {},
   "outputs": [],
   "source": [
    "catalog.load(\"s\")"
   ]
  },
  {
   "cell_type": "code",
   "execution_count": 36,
   "metadata": {},
   "outputs": [],
   "source": [
    "train = pd.read_csv(\"data/01_raw/training.txt\", sep='\\t', header=0, encoding=\"ISO-8859-1\")"
   ]
  },
  {
   "cell_type": "code",
   "execution_count": 20,
   "metadata": {},
   "outputs": [],
   "source": [
    "test = pd.read_csv(\"data/01_raw/test.txt\", sep='\\t', header=0, encoding=\"ISO-8859-1\")"
   ]
  },
  {
   "cell_type": "code",
   "execution_count": 28,
   "metadata": {},
   "outputs": [],
   "source": [
    "train.to_csv(\"data/01_raw/training.csv\",index=False)"
   ]
  },
  {
   "cell_type": "code",
   "execution_count": 29,
   "metadata": {},
   "outputs": [],
   "source": [
    "test.to_csv(\"data/01_raw/test.csv\",index=False)"
   ]
  },
  {
   "cell_type": "code",
   "execution_count": 39,
   "metadata": {},
   "outputs": [],
   "source": [
    "train = pd.read_csv(\"data/01_raw/training.csv\")"
   ]
  },
  {
   "cell_type": "code",
   "execution_count": 40,
   "metadata": {},
   "outputs": [],
   "source": [
    "test = pd.read_csv(\"data/01_raw/test.csv\")"
   ]
  },
  {
   "cell_type": "markdown",
   "metadata": {},
   "source": [
    "### creating cooking reader"
   ]
  },
  {
   "cell_type": "code",
   "execution_count": 16,
   "metadata": {},
   "outputs": [],
   "source": [
    "data = pd.read_csv(\"../training data/cooking/cooking.train\", sep=\"|\", header=None, names=[\"line\"])"
   ]
  },
  {
   "cell_type": "code",
   "execution_count": 17,
   "metadata": {},
   "outputs": [],
   "source": [
    "data[\"line replaced\"] = data[\"line\"].apply(lambda x: x.replace(\" __label__\", \"__label__\"))"
   ]
  },
  {
   "cell_type": "code",
   "execution_count": 18,
   "metadata": {},
   "outputs": [],
   "source": [
    "data[\"label list spliited\"] = data[\"line replaced\"].apply(lambda x: x.split(\" \",1))"
   ]
  },
  {
   "cell_type": "code",
   "execution_count": 19,
   "metadata": {},
   "outputs": [],
   "source": [
    "data[\"text\"] =  data[\"label list spliited\"].apply(lambda x: x[1])"
   ]
  },
  {
   "cell_type": "code",
   "execution_count": 20,
   "metadata": {},
   "outputs": [],
   "source": [
    "data[\"label list\"] = data[\"label list spliited\"].apply(lambda x: x[0])"
   ]
  },
  {
   "cell_type": "code",
   "execution_count": 21,
   "metadata": {},
   "outputs": [],
   "source": [
    "data_splitted = data[[\"label list\",\"text\"]]"
   ]
  },
  {
   "cell_type": "code",
   "execution_count": 22,
   "metadata": {
    "scrolled": true
   },
   "outputs": [
    {
     "name": "stderr",
     "output_type": "stream",
     "text": [
      "C:\\Users\\Mateusz Baryla\\AppData\\Local\\Continuum\\Anaconda3\\lib\\site-packages\\ipykernel_launcher.py:1: SettingWithCopyWarning: \n",
      "A value is trying to be set on a copy of a slice from a DataFrame.\n",
      "Try using .loc[row_indexer,col_indexer] = value instead\n",
      "\n",
      "See the caveats in the documentation: http://pandas.pydata.org/pandas-docs/stable/indexing.html#indexing-view-versus-copy\n",
      "  \"\"\"Entry point for launching an IPython kernel.\n"
     ]
    }
   ],
   "source": [
    "data_splitted[\"label list\"] = data_splitted[\"label list\"].apply(lambda x:x.split(\"__label__\")[1:])"
   ]
  },
  {
   "cell_type": "code",
   "execution_count": 131,
   "metadata": {},
   "outputs": [
    {
     "data": {
      "text/html": [
       "<div>\n",
       "<style scoped>\n",
       "    .dataframe tbody tr th:only-of-type {\n",
       "        vertical-align: middle;\n",
       "    }\n",
       "\n",
       "    .dataframe tbody tr th {\n",
       "        vertical-align: top;\n",
       "    }\n",
       "\n",
       "    .dataframe thead th {\n",
       "        text-align: right;\n",
       "    }\n",
       "</style>\n",
       "<table border=\"1\" class=\"dataframe\">\n",
       "  <thead>\n",
       "    <tr style=\"text-align: right;\">\n",
       "      <th></th>\n",
       "      <th>__label__1</th>\n",
       "      <th>__label__2</th>\n",
       "      <th>__label__3</th>\n",
       "      <th>__label__4</th>\n",
       "      <th>__label__5</th>\n",
       "      <th>text</th>\n",
       "    </tr>\n",
       "  </thead>\n",
       "  <tbody>\n",
       "    <tr>\n",
       "      <th>0</th>\n",
       "      <td>sauce</td>\n",
       "      <td>cheese</td>\n",
       "      <td>None</td>\n",
       "      <td>None</td>\n",
       "      <td>None</td>\n",
       "      <td>How much does potato starch affect a cheese sa...</td>\n",
       "    </tr>\n",
       "    <tr>\n",
       "      <th>1</th>\n",
       "      <td>food-safety</td>\n",
       "      <td>acidity</td>\n",
       "      <td>None</td>\n",
       "      <td>None</td>\n",
       "      <td>None</td>\n",
       "      <td>Dangerous pathogens capable of growing in acid...</td>\n",
       "    </tr>\n",
       "    <tr>\n",
       "      <th>2</th>\n",
       "      <td>cast-iron</td>\n",
       "      <td>stove</td>\n",
       "      <td>None</td>\n",
       "      <td>None</td>\n",
       "      <td>None</td>\n",
       "      <td>How do I cover up the white spots on my cast i...</td>\n",
       "    </tr>\n",
       "    <tr>\n",
       "      <th>3</th>\n",
       "      <td>restaurant</td>\n",
       "      <td>None</td>\n",
       "      <td>None</td>\n",
       "      <td>None</td>\n",
       "      <td>None</td>\n",
       "      <td>Michelin Three Star Restaurant; but if the che...</td>\n",
       "    </tr>\n",
       "    <tr>\n",
       "      <th>4</th>\n",
       "      <td>knife-skills</td>\n",
       "      <td>dicing</td>\n",
       "      <td>None</td>\n",
       "      <td>None</td>\n",
       "      <td>None</td>\n",
       "      <td>Without knife skills, how can I quickly and ac...</td>\n",
       "    </tr>\n",
       "    <tr>\n",
       "      <th>5</th>\n",
       "      <td>storage-method</td>\n",
       "      <td>equipment</td>\n",
       "      <td>bread</td>\n",
       "      <td>None</td>\n",
       "      <td>None</td>\n",
       "      <td>What's the purpose of a bread box?</td>\n",
       "    </tr>\n",
       "    <tr>\n",
       "      <th>6</th>\n",
       "      <td>baking</td>\n",
       "      <td>food-safety</td>\n",
       "      <td>substitutions</td>\n",
       "      <td>peanuts</td>\n",
       "      <td>None</td>\n",
       "      <td>how to seperate peanut oil from roasted peanut...</td>\n",
       "    </tr>\n",
       "    <tr>\n",
       "      <th>7</th>\n",
       "      <td>chocolate</td>\n",
       "      <td>None</td>\n",
       "      <td>None</td>\n",
       "      <td>None</td>\n",
       "      <td>None</td>\n",
       "      <td>American equivalent for British chocolate terms</td>\n",
       "    </tr>\n",
       "    <tr>\n",
       "      <th>8</th>\n",
       "      <td>baking</td>\n",
       "      <td>oven</td>\n",
       "      <td>convection</td>\n",
       "      <td>None</td>\n",
       "      <td>None</td>\n",
       "      <td>Fan bake vs bake</td>\n",
       "    </tr>\n",
       "    <tr>\n",
       "      <th>9</th>\n",
       "      <td>sauce</td>\n",
       "      <td>storage-lifetime</td>\n",
       "      <td>acidity</td>\n",
       "      <td>mayonnaise</td>\n",
       "      <td>None</td>\n",
       "      <td>Regulation and balancing of readymade packed m...</td>\n",
       "    </tr>\n",
       "    <tr>\n",
       "      <th>10</th>\n",
       "      <td>tea</td>\n",
       "      <td>None</td>\n",
       "      <td>None</td>\n",
       "      <td>None</td>\n",
       "      <td>None</td>\n",
       "      <td>What kind of tea do you boil for 45minutes?</td>\n",
       "    </tr>\n",
       "    <tr>\n",
       "      <th>11</th>\n",
       "      <td>baking</td>\n",
       "      <td>baking-powder</td>\n",
       "      <td>baking-soda</td>\n",
       "      <td>leavening</td>\n",
       "      <td>None</td>\n",
       "      <td>How long can batter sit before chemical leaven...</td>\n",
       "    </tr>\n",
       "    <tr>\n",
       "      <th>12</th>\n",
       "      <td>food-safety</td>\n",
       "      <td>soup</td>\n",
       "      <td>None</td>\n",
       "      <td>None</td>\n",
       "      <td>None</td>\n",
       "      <td>Can I RE-freeze chicken soup after it has thawed?</td>\n",
       "    </tr>\n",
       "    <tr>\n",
       "      <th>13</th>\n",
       "      <td>sous-vide</td>\n",
       "      <td>vacuum</td>\n",
       "      <td>None</td>\n",
       "      <td>None</td>\n",
       "      <td>None</td>\n",
       "      <td>Ziploc vacuumed bags expand in sous vide</td>\n",
       "    </tr>\n",
       "    <tr>\n",
       "      <th>14</th>\n",
       "      <td>baking</td>\n",
       "      <td>substitutions</td>\n",
       "      <td>syrup</td>\n",
       "      <td>None</td>\n",
       "      <td>None</td>\n",
       "      <td>What can I use instead of corn syrup?</td>\n",
       "    </tr>\n",
       "    <tr>\n",
       "      <th>15</th>\n",
       "      <td>vegan</td>\n",
       "      <td>almonds</td>\n",
       "      <td>almond-milk</td>\n",
       "      <td>None</td>\n",
       "      <td>None</td>\n",
       "      <td>Does soaking almonds have the same effect as b...</td>\n",
       "    </tr>\n",
       "    <tr>\n",
       "      <th>16</th>\n",
       "      <td>baking</td>\n",
       "      <td>cake</td>\n",
       "      <td>soda</td>\n",
       "      <td>None</td>\n",
       "      <td>None</td>\n",
       "      <td>Cake sinks in the middle when baking. Only hap...</td>\n",
       "    </tr>\n",
       "    <tr>\n",
       "      <th>17</th>\n",
       "      <td>baking</td>\n",
       "      <td>None</td>\n",
       "      <td>None</td>\n",
       "      <td>None</td>\n",
       "      <td>None</td>\n",
       "      <td>Which plastic wrap is okay for oven use?</td>\n",
       "    </tr>\n",
       "    <tr>\n",
       "      <th>18</th>\n",
       "      <td>tea</td>\n",
       "      <td>None</td>\n",
       "      <td>None</td>\n",
       "      <td>None</td>\n",
       "      <td>None</td>\n",
       "      <td>Can I dissolve sugar first before steeping tea?</td>\n",
       "    </tr>\n",
       "    <tr>\n",
       "      <th>19</th>\n",
       "      <td>food-safety</td>\n",
       "      <td>salmon</td>\n",
       "      <td>None</td>\n",
       "      <td>None</td>\n",
       "      <td>None</td>\n",
       "      <td>Is it safe to eat food that was heated in plas...</td>\n",
       "    </tr>\n",
       "    <tr>\n",
       "      <th>20</th>\n",
       "      <td>flavor</td>\n",
       "      <td>spices</td>\n",
       "      <td>chemistry</td>\n",
       "      <td>None</td>\n",
       "      <td>None</td>\n",
       "      <td>Flavor and Chemical Composition of Thyme</td>\n",
       "    </tr>\n",
       "    <tr>\n",
       "      <th>21</th>\n",
       "      <td>equipment</td>\n",
       "      <td>None</td>\n",
       "      <td>None</td>\n",
       "      <td>None</td>\n",
       "      <td>None</td>\n",
       "      <td>What can I use as a manual hard cheese slicer?</td>\n",
       "    </tr>\n",
       "    <tr>\n",
       "      <th>22</th>\n",
       "      <td>flour</td>\n",
       "      <td>milling</td>\n",
       "      <td>None</td>\n",
       "      <td>None</td>\n",
       "      <td>None</td>\n",
       "      <td>Are stone or metal grinding wheels better for ...</td>\n",
       "    </tr>\n",
       "    <tr>\n",
       "      <th>23</th>\n",
       "      <td>beans</td>\n",
       "      <td>None</td>\n",
       "      <td>None</td>\n",
       "      <td>None</td>\n",
       "      <td>None</td>\n",
       "      <td>Do fava beans need to cook longer than other k...</td>\n",
       "    </tr>\n",
       "    <tr>\n",
       "      <th>24</th>\n",
       "      <td>baking</td>\n",
       "      <td>bread</td>\n",
       "      <td>kneading</td>\n",
       "      <td>None</td>\n",
       "      <td>None</td>\n",
       "      <td>Kneading Bread After Rising</td>\n",
       "    </tr>\n",
       "    <tr>\n",
       "      <th>25</th>\n",
       "      <td>beef</td>\n",
       "      <td>roast</td>\n",
       "      <td>gravy</td>\n",
       "      <td>roast-beef</td>\n",
       "      <td>None</td>\n",
       "      <td>Extraordinary Beef Gravy?</td>\n",
       "    </tr>\n",
       "    <tr>\n",
       "      <th>26</th>\n",
       "      <td>baking</td>\n",
       "      <td>bread</td>\n",
       "      <td>crust</td>\n",
       "      <td>None</td>\n",
       "      <td>None</td>\n",
       "      <td>How to heat up already baked french bread in o...</td>\n",
       "    </tr>\n",
       "    <tr>\n",
       "      <th>27</th>\n",
       "      <td>chocolate</td>\n",
       "      <td>None</td>\n",
       "      <td>None</td>\n",
       "      <td>None</td>\n",
       "      <td>None</td>\n",
       "      <td>Is there a difference in appearance between se...</td>\n",
       "    </tr>\n",
       "    <tr>\n",
       "      <th>28</th>\n",
       "      <td>food-science</td>\n",
       "      <td>marinade</td>\n",
       "      <td>brining</td>\n",
       "      <td>None</td>\n",
       "      <td>None</td>\n",
       "      <td>If salt dehydrates the meat, then why would br...</td>\n",
       "    </tr>\n",
       "    <tr>\n",
       "      <th>29</th>\n",
       "      <td>cookies</td>\n",
       "      <td>texture</td>\n",
       "      <td>american-cuisine</td>\n",
       "      <td>None</td>\n",
       "      <td>None</td>\n",
       "      <td>How long after baking do American chewy cookie...</td>\n",
       "    </tr>\n",
       "    <tr>\n",
       "      <th>...</th>\n",
       "      <td>...</td>\n",
       "      <td>...</td>\n",
       "      <td>...</td>\n",
       "      <td>...</td>\n",
       "      <td>...</td>\n",
       "      <td>...</td>\n",
       "    </tr>\n",
       "    <tr>\n",
       "      <th>12374</th>\n",
       "      <td>cookware</td>\n",
       "      <td>non-stick</td>\n",
       "      <td>None</td>\n",
       "      <td>None</td>\n",
       "      <td>None</td>\n",
       "      <td>Difference in technique for cooking with non-s...</td>\n",
       "    </tr>\n",
       "    <tr>\n",
       "      <th>12375</th>\n",
       "      <td>baking</td>\n",
       "      <td>eggs</td>\n",
       "      <td>souffle</td>\n",
       "      <td>None</td>\n",
       "      <td>None</td>\n",
       "      <td>Troubleshooting a souffl that collapses during...</td>\n",
       "    </tr>\n",
       "    <tr>\n",
       "      <th>12376</th>\n",
       "      <td>grilling</td>\n",
       "      <td>barbecue</td>\n",
       "      <td>artichokes</td>\n",
       "      <td>None</td>\n",
       "      <td>None</td>\n",
       "      <td>How do I best grill an artichoke?</td>\n",
       "    </tr>\n",
       "    <tr>\n",
       "      <th>12377</th>\n",
       "      <td>cheese</td>\n",
       "      <td>None</td>\n",
       "      <td>None</td>\n",
       "      <td>None</td>\n",
       "      <td>None</td>\n",
       "      <td>island cheese - azorean (or portugese)</td>\n",
       "    </tr>\n",
       "    <tr>\n",
       "      <th>12378</th>\n",
       "      <td>chicken</td>\n",
       "      <td>fresh</td>\n",
       "      <td>None</td>\n",
       "      <td>None</td>\n",
       "      <td>None</td>\n",
       "      <td>How do I tell the freshness of raw chicken?</td>\n",
       "    </tr>\n",
       "    <tr>\n",
       "      <th>12379</th>\n",
       "      <td>substitutions</td>\n",
       "      <td>None</td>\n",
       "      <td>None</td>\n",
       "      <td>None</td>\n",
       "      <td>None</td>\n",
       "      <td>Is ground flaxseed an oil substitute?</td>\n",
       "    </tr>\n",
       "    <tr>\n",
       "      <th>12380</th>\n",
       "      <td>equipment</td>\n",
       "      <td>oven</td>\n",
       "      <td>None</td>\n",
       "      <td>None</td>\n",
       "      <td>None</td>\n",
       "      <td>Can you put All-Clad LTD2 in the oven?</td>\n",
       "    </tr>\n",
       "    <tr>\n",
       "      <th>12381</th>\n",
       "      <td>food-safety</td>\n",
       "      <td>fruit</td>\n",
       "      <td>None</td>\n",
       "      <td>None</td>\n",
       "      <td>None</td>\n",
       "      <td>Are edible skins of supermarket fruits safe to...</td>\n",
       "    </tr>\n",
       "    <tr>\n",
       "      <th>12382</th>\n",
       "      <td>storage-method</td>\n",
       "      <td>lasagna</td>\n",
       "      <td>None</td>\n",
       "      <td>None</td>\n",
       "      <td>None</td>\n",
       "      <td>How should I store leftover uncooked lasagna s...</td>\n",
       "    </tr>\n",
       "    <tr>\n",
       "      <th>12383</th>\n",
       "      <td>brining</td>\n",
       "      <td>turkey</td>\n",
       "      <td>None</td>\n",
       "      <td>None</td>\n",
       "      <td>None</td>\n",
       "      <td>How much salt does brining a turkey add?</td>\n",
       "    </tr>\n",
       "    <tr>\n",
       "      <th>12384</th>\n",
       "      <td>equipment</td>\n",
       "      <td>None</td>\n",
       "      <td>None</td>\n",
       "      <td>None</td>\n",
       "      <td>None</td>\n",
       "      <td>KitchenAid Pro mixer clicking noise</td>\n",
       "    </tr>\n",
       "    <tr>\n",
       "      <th>12385</th>\n",
       "      <td>storage</td>\n",
       "      <td>fresh</td>\n",
       "      <td>None</td>\n",
       "      <td>None</td>\n",
       "      <td>None</td>\n",
       "      <td>Fresh Herb Storage</td>\n",
       "    </tr>\n",
       "    <tr>\n",
       "      <th>12386</th>\n",
       "      <td>almonds</td>\n",
       "      <td>None</td>\n",
       "      <td>None</td>\n",
       "      <td>None</td>\n",
       "      <td>None</td>\n",
       "      <td>How can I use a large quantity of raw almonds ...</td>\n",
       "    </tr>\n",
       "    <tr>\n",
       "      <th>12387</th>\n",
       "      <td>fire</td>\n",
       "      <td>None</td>\n",
       "      <td>None</td>\n",
       "      <td>None</td>\n",
       "      <td>None</td>\n",
       "      <td>Cooking over an open flame at home</td>\n",
       "    </tr>\n",
       "    <tr>\n",
       "      <th>12388</th>\n",
       "      <td>food-safety</td>\n",
       "      <td>meat</td>\n",
       "      <td>cheese</td>\n",
       "      <td>microwave</td>\n",
       "      <td>None</td>\n",
       "      <td>How long can microwavable dinners containing m...</td>\n",
       "    </tr>\n",
       "    <tr>\n",
       "      <th>12389</th>\n",
       "      <td>pork</td>\n",
       "      <td>catering</td>\n",
       "      <td>serving</td>\n",
       "      <td>None</td>\n",
       "      <td>None</td>\n",
       "      <td>How can I prevent pork from becoming tough whi...</td>\n",
       "    </tr>\n",
       "    <tr>\n",
       "      <th>12390</th>\n",
       "      <td>equipment</td>\n",
       "      <td>None</td>\n",
       "      <td>None</td>\n",
       "      <td>None</td>\n",
       "      <td>None</td>\n",
       "      <td>Breaking Bad - Glass Frying Pan</td>\n",
       "    </tr>\n",
       "    <tr>\n",
       "      <th>12391</th>\n",
       "      <td>food-safety</td>\n",
       "      <td>None</td>\n",
       "      <td>None</td>\n",
       "      <td>None</td>\n",
       "      <td>None</td>\n",
       "      <td>Bacteria in maple syrup</td>\n",
       "    </tr>\n",
       "    <tr>\n",
       "      <th>12392</th>\n",
       "      <td>bread</td>\n",
       "      <td>yeast</td>\n",
       "      <td>chemistry</td>\n",
       "      <td>None</td>\n",
       "      <td>None</td>\n",
       "      <td>When you try to \"catch\" yeast from the air: is...</td>\n",
       "    </tr>\n",
       "    <tr>\n",
       "      <th>12393</th>\n",
       "      <td>fish</td>\n",
       "      <td>None</td>\n",
       "      <td>None</td>\n",
       "      <td>None</td>\n",
       "      <td>None</td>\n",
       "      <td>Arctic char available in North-America</td>\n",
       "    </tr>\n",
       "    <tr>\n",
       "      <th>12394</th>\n",
       "      <td>pasta</td>\n",
       "      <td>salt</td>\n",
       "      <td>boiling</td>\n",
       "      <td>None</td>\n",
       "      <td>None</td>\n",
       "      <td>When cooking pasta in salted water how much of...</td>\n",
       "    </tr>\n",
       "    <tr>\n",
       "      <th>12395</th>\n",
       "      <td>coffee</td>\n",
       "      <td>None</td>\n",
       "      <td>None</td>\n",
       "      <td>None</td>\n",
       "      <td>None</td>\n",
       "      <td>Emergency Coffee via Chocolate Covered Coffee ...</td>\n",
       "    </tr>\n",
       "    <tr>\n",
       "      <th>12396</th>\n",
       "      <td>cake</td>\n",
       "      <td>None</td>\n",
       "      <td>None</td>\n",
       "      <td>None</td>\n",
       "      <td>None</td>\n",
       "      <td>Non-beet alternatives to standard red food dye</td>\n",
       "    </tr>\n",
       "    <tr>\n",
       "      <th>12397</th>\n",
       "      <td>cheese</td>\n",
       "      <td>lentils</td>\n",
       "      <td>None</td>\n",
       "      <td>None</td>\n",
       "      <td>None</td>\n",
       "      <td>Could cheese \"halt\" the tenderness of cooking ...</td>\n",
       "    </tr>\n",
       "    <tr>\n",
       "      <th>12398</th>\n",
       "      <td>asian-cuisine</td>\n",
       "      <td>chili-peppers</td>\n",
       "      <td>kimchi</td>\n",
       "      <td>korean-cuisine</td>\n",
       "      <td>None</td>\n",
       "      <td>What kind of peppers are used in Gochugaru ()?</td>\n",
       "    </tr>\n",
       "    <tr>\n",
       "      <th>12399</th>\n",
       "      <td>consistency</td>\n",
       "      <td>None</td>\n",
       "      <td>None</td>\n",
       "      <td>None</td>\n",
       "      <td>None</td>\n",
       "      <td>Pavlova Roll failure</td>\n",
       "    </tr>\n",
       "    <tr>\n",
       "      <th>12400</th>\n",
       "      <td>eggs</td>\n",
       "      <td>bread</td>\n",
       "      <td>None</td>\n",
       "      <td>None</td>\n",
       "      <td>None</td>\n",
       "      <td>What qualities should I be looking for when ma...</td>\n",
       "    </tr>\n",
       "    <tr>\n",
       "      <th>12401</th>\n",
       "      <td>meat</td>\n",
       "      <td>flour</td>\n",
       "      <td>stews</td>\n",
       "      <td>braising</td>\n",
       "      <td>None</td>\n",
       "      <td>Coating meat in flour before browning, bad idea?</td>\n",
       "    </tr>\n",
       "    <tr>\n",
       "      <th>12402</th>\n",
       "      <td>food-safety</td>\n",
       "      <td>None</td>\n",
       "      <td>None</td>\n",
       "      <td>None</td>\n",
       "      <td>None</td>\n",
       "      <td>Raw roast beef on the edge of safe?</td>\n",
       "    </tr>\n",
       "    <tr>\n",
       "      <th>12403</th>\n",
       "      <td>pork</td>\n",
       "      <td>food-identification</td>\n",
       "      <td>None</td>\n",
       "      <td>None</td>\n",
       "      <td>None</td>\n",
       "      <td>How do I determine the cut of a pork steak pri...</td>\n",
       "    </tr>\n",
       "  </tbody>\n",
       "</table>\n",
       "<p>12404 rows × 6 columns</p>\n",
       "</div>"
      ],
      "text/plain": [
       "           __label__1           __label__2        __label__3      __label__4  \\\n",
       "0               sauce               cheese              None            None   \n",
       "1         food-safety              acidity              None            None   \n",
       "2           cast-iron                stove              None            None   \n",
       "3          restaurant                 None              None            None   \n",
       "4        knife-skills               dicing              None            None   \n",
       "5      storage-method            equipment             bread            None   \n",
       "6              baking          food-safety     substitutions         peanuts   \n",
       "7           chocolate                 None              None            None   \n",
       "8              baking                 oven        convection            None   \n",
       "9               sauce     storage-lifetime           acidity      mayonnaise   \n",
       "10                tea                 None              None            None   \n",
       "11             baking        baking-powder       baking-soda       leavening   \n",
       "12        food-safety                 soup              None            None   \n",
       "13          sous-vide               vacuum              None            None   \n",
       "14             baking        substitutions             syrup            None   \n",
       "15              vegan              almonds       almond-milk            None   \n",
       "16             baking                 cake              soda            None   \n",
       "17             baking                 None              None            None   \n",
       "18                tea                 None              None            None   \n",
       "19        food-safety               salmon              None            None   \n",
       "20             flavor               spices         chemistry            None   \n",
       "21          equipment                 None              None            None   \n",
       "22              flour              milling              None            None   \n",
       "23              beans                 None              None            None   \n",
       "24             baking                bread          kneading            None   \n",
       "25               beef                roast             gravy      roast-beef   \n",
       "26             baking                bread             crust            None   \n",
       "27          chocolate                 None              None            None   \n",
       "28       food-science             marinade           brining            None   \n",
       "29            cookies              texture  american-cuisine            None   \n",
       "...               ...                  ...               ...             ...   \n",
       "12374        cookware            non-stick              None            None   \n",
       "12375          baking                 eggs           souffle            None   \n",
       "12376        grilling             barbecue        artichokes            None   \n",
       "12377          cheese                 None              None            None   \n",
       "12378         chicken                fresh              None            None   \n",
       "12379   substitutions                 None              None            None   \n",
       "12380       equipment                 oven              None            None   \n",
       "12381     food-safety                fruit              None            None   \n",
       "12382  storage-method              lasagna              None            None   \n",
       "12383         brining               turkey              None            None   \n",
       "12384       equipment                 None              None            None   \n",
       "12385         storage                fresh              None            None   \n",
       "12386         almonds                 None              None            None   \n",
       "12387            fire                 None              None            None   \n",
       "12388     food-safety                 meat            cheese       microwave   \n",
       "12389            pork             catering           serving            None   \n",
       "12390       equipment                 None              None            None   \n",
       "12391     food-safety                 None              None            None   \n",
       "12392           bread                yeast         chemistry            None   \n",
       "12393            fish                 None              None            None   \n",
       "12394           pasta                 salt           boiling            None   \n",
       "12395          coffee                 None              None            None   \n",
       "12396            cake                 None              None            None   \n",
       "12397          cheese              lentils              None            None   \n",
       "12398   asian-cuisine        chili-peppers            kimchi  korean-cuisine   \n",
       "12399     consistency                 None              None            None   \n",
       "12400            eggs                bread              None            None   \n",
       "12401            meat                flour             stews        braising   \n",
       "12402     food-safety                 None              None            None   \n",
       "12403            pork  food-identification              None            None   \n",
       "\n",
       "      __label__5                                               text  \n",
       "0           None  How much does potato starch affect a cheese sa...  \n",
       "1           None  Dangerous pathogens capable of growing in acid...  \n",
       "2           None  How do I cover up the white spots on my cast i...  \n",
       "3           None  Michelin Three Star Restaurant; but if the che...  \n",
       "4           None  Without knife skills, how can I quickly and ac...  \n",
       "5           None                 What's the purpose of a bread box?  \n",
       "6           None  how to seperate peanut oil from roasted peanut...  \n",
       "7           None    American equivalent for British chocolate terms  \n",
       "8           None                                   Fan bake vs bake  \n",
       "9           None  Regulation and balancing of readymade packed m...  \n",
       "10          None        What kind of tea do you boil for 45minutes?  \n",
       "11          None  How long can batter sit before chemical leaven...  \n",
       "12          None  Can I RE-freeze chicken soup after it has thawed?  \n",
       "13          None           Ziploc vacuumed bags expand in sous vide  \n",
       "14          None              What can I use instead of corn syrup?  \n",
       "15          None  Does soaking almonds have the same effect as b...  \n",
       "16          None  Cake sinks in the middle when baking. Only hap...  \n",
       "17          None           Which plastic wrap is okay for oven use?  \n",
       "18          None    Can I dissolve sugar first before steeping tea?  \n",
       "19          None  Is it safe to eat food that was heated in plas...  \n",
       "20          None           Flavor and Chemical Composition of Thyme  \n",
       "21          None     What can I use as a manual hard cheese slicer?  \n",
       "22          None  Are stone or metal grinding wheels better for ...  \n",
       "23          None  Do fava beans need to cook longer than other k...  \n",
       "24          None                        Kneading Bread After Rising  \n",
       "25          None                          Extraordinary Beef Gravy?  \n",
       "26          None  How to heat up already baked french bread in o...  \n",
       "27          None  Is there a difference in appearance between se...  \n",
       "28          None  If salt dehydrates the meat, then why would br...  \n",
       "29          None  How long after baking do American chewy cookie...  \n",
       "...          ...                                                ...  \n",
       "12374       None  Difference in technique for cooking with non-s...  \n",
       "12375       None  Troubleshooting a souffl that collapses during...  \n",
       "12376       None                  How do I best grill an artichoke?  \n",
       "12377       None             island cheese - azorean (or portugese)  \n",
       "12378       None        How do I tell the freshness of raw chicken?  \n",
       "12379       None              Is ground flaxseed an oil substitute?  \n",
       "12380       None             Can you put All-Clad LTD2 in the oven?  \n",
       "12381       None  Are edible skins of supermarket fruits safe to...  \n",
       "12382       None  How should I store leftover uncooked lasagna s...  \n",
       "12383       None           How much salt does brining a turkey add?  \n",
       "12384       None                KitchenAid Pro mixer clicking noise  \n",
       "12385       None                                 Fresh Herb Storage  \n",
       "12386       None  How can I use a large quantity of raw almonds ...  \n",
       "12387       None                 Cooking over an open flame at home  \n",
       "12388       None  How long can microwavable dinners containing m...  \n",
       "12389       None  How can I prevent pork from becoming tough whi...  \n",
       "12390       None                    Breaking Bad - Glass Frying Pan  \n",
       "12391       None                            Bacteria in maple syrup  \n",
       "12392       None  When you try to \"catch\" yeast from the air: is...  \n",
       "12393       None             Arctic char available in North-America  \n",
       "12394       None  When cooking pasta in salted water how much of...  \n",
       "12395       None  Emergency Coffee via Chocolate Covered Coffee ...  \n",
       "12396       None     Non-beet alternatives to standard red food dye  \n",
       "12397       None  Could cheese \"halt\" the tenderness of cooking ...  \n",
       "12398       None     What kind of peppers are used in Gochugaru ()?  \n",
       "12399       None                               Pavlova Roll failure  \n",
       "12400       None  What qualities should I be looking for when ma...  \n",
       "12401       None   Coating meat in flour before browning, bad idea?  \n",
       "12402       None                Raw roast beef on the edge of safe?  \n",
       "12403       None  How do I determine the cut of a pork steak pri...  \n",
       "\n",
       "[12404 rows x 6 columns]"
      ]
     },
     "execution_count": 131,
     "metadata": {},
     "output_type": "execute_result"
    }
   ],
   "source": [
    "final_data = pd.DataFrame(data_splitted[\"label list\"].values.tolist(), index= data_splitted.index, columns = [\"__label__\"+str(i) for i in range(1,6)])\n",
    "final_data[\"text\"] = data_splitted[\"text\"]\n",
    "final_data"
   ]
  },
  {
   "cell_type": "code",
   "execution_count": 44,
   "metadata": {},
   "outputs": [],
   "source": [
    "model = fasttext.train_supervised(input=\"../training data/cooking.preprocessed.txt\")"
   ]
  },
  {
   "cell_type": "code",
   "execution_count": 10,
   "metadata": {},
   "outputs": [],
   "source": [
    "model.save_model(\"../models/model_cooking.bin\")"
   ]
  },
  {
   "cell_type": "code",
   "execution_count": 42,
   "metadata": {},
   "outputs": [
    {
     "data": {
      "text/plain": [
       "(('__label__bread',), array([0.38804641]))"
      ]
     },
     "execution_count": 42,
     "metadata": {},
     "output_type": "execute_result"
    }
   ],
   "source": [
    "model.predict(\"Which baking dish is best to bake a banana bread ?\")"
   ]
  },
  {
   "cell_type": "code",
   "execution_count": 12,
   "metadata": {},
   "outputs": [
    {
     "data": {
      "text/plain": [
       "(('__label__baking',), array([0.06785078]))"
      ]
     },
     "execution_count": 12,
     "metadata": {},
     "output_type": "execute_result"
    }
   ],
   "source": [
    "model.predict(\"Why not put knives in the dishwasher?\")"
   ]
  },
  {
   "cell_type": "code",
   "execution_count": 14,
   "metadata": {},
   "outputs": [
    {
     "data": {
      "text/plain": [
       "(3000, 0.13066666666666665, 0.056508577194752774)"
      ]
     },
     "execution_count": 14,
     "metadata": {},
     "output_type": "execute_result"
    }
   ],
   "source": [
    "model.test(\"../training data/cooking.valid\")"
   ]
  },
  {
   "cell_type": "code",
   "execution_count": 16,
   "metadata": {},
   "outputs": [
    {
     "data": {
      "text/plain": [
       "(3000, 0.06633333333333333, 0.1434337609917832)"
      ]
     },
     "execution_count": 16,
     "metadata": {},
     "output_type": "execute_result"
    }
   ],
   "source": [
    "model.test(\"../training data/cooking.valid\", k=5)"
   ]
  },
  {
   "cell_type": "code",
   "execution_count": 17,
   "metadata": {},
   "outputs": [
    {
     "data": {
      "text/plain": [
       "(('__label__baking',\n",
       "  '__label__food-safety',\n",
       "  '__label__equipment',\n",
       "  '__label__bread',\n",
       "  '__label__substitutions'),\n",
       " array([0.06785078, 0.06423847, 0.03607798, 0.03567965, 0.03392866]))"
      ]
     },
     "execution_count": 17,
     "metadata": {},
     "output_type": "execute_result"
    }
   ],
   "source": [
    "model.predict(\"Why not put knives in the dishwasher?\", k=5)"
   ]
  },
  {
   "cell_type": "code",
   "execution_count": 2,
   "metadata": {},
   "outputs": [],
   "source": [
    "def simplify(word):\n",
    "    dump = ''\n",
    "    temp = []\n",
    "    listOfWords = list(filter(None,re.split(\"([A-Z][^A-Z]*)\",word)))\n",
    "    if len(listOfWords) == len(word):\n",
    "        return word.lower()\n",
    "    for i in range(len(listOfWords)):\n",
    "        listOfWords[i] = listOfWords[i].lower()\n",
    "        if len(listOfWords[i]) == 1:\n",
    "            dump = dump + listOfWords[i]\n",
    "            if dump in words.words() and len(dump) > 2:\n",
    "                temp.append(dump)\n",
    "                dump = ''\n",
    "        else:\n",
    "            temp.append(listOfWords[i])\n",
    "    return temp"
   ]
  },
  {
   "cell_type": "code",
   "execution_count": 3,
   "metadata": {},
   "outputs": [],
   "source": [
    "stemmer = SnowballStemmer(\"english\")\n",
    "def createTokens(example_sentence):\n",
    "    listOfTweets = []\n",
    "    listOfStances = []\n",
    "    # Create a sentence using target and the tweet. Word vector will be formed from this.\n",
    "    # Remove punctuation\n",
    "    final_sentence = example_sentence.translate(string.punctuation)\n",
    "    wordList = word_tokenize(final_sentence)\n",
    "    simpleWordList = []\n",
    "    s = ' '.join([i for i in wordList if i.isalpha()])\n",
    "    # create tokens from the string and stem them\n",
    "    wordList = word_tokenize(s)\n",
    "    for word in wordList:\n",
    "        #to break any combined word into its components for eg, hashtags\n",
    "        simpleWordList += simplify(word)\n",
    "    # we stem the words to reduce the number of unique words by reducing the words to their origins\n",
    "    final_sentence = ' '.join(stemmer.stem(word) for word in simpleWordList)\n",
    "    # All tweets from training data\n",
    "    \n",
    "    return final_sentence"
   ]
  },
  {
   "cell_type": "code",
   "execution_count": 27,
   "metadata": {},
   "outputs": [
    {
     "data": {
      "text/plain": [
       "'how much doe potato starch affect a chees sauc recip'"
      ]
     },
     "execution_count": 27,
     "metadata": {},
     "output_type": "execute_result"
    }
   ],
   "source": [
    "createTokens(\"How much does potato starch affect a cheese sauce recipe?\")"
   ]
  },
  {
   "cell_type": "code",
   "execution_count": 107,
   "metadata": {},
   "outputs": [],
   "source": [
    "model = fasttext.train_supervised(input=\"../training data/cooking.train\")"
   ]
  },
  {
   "cell_type": "code",
   "execution_count": 109,
   "metadata": {},
   "outputs": [
    {
     "data": {
      "text/plain": [
       "(3000, 0.13266666666666665, 0.05737350439671328)"
      ]
     },
     "execution_count": 109,
     "metadata": {},
     "output_type": "execute_result"
    }
   ],
   "source": [
    "model.test(\"../training data/cooking.valid\")"
   ]
  },
  {
   "cell_type": "code",
   "execution_count": 112,
   "metadata": {},
   "outputs": [],
   "source": [
    "model = fasttext.train_supervised(input=\"../training data/cooking.train\", lr=1.0, epoch=25, wordNgrams=2)"
   ]
  },
  {
   "cell_type": "code",
   "execution_count": 114,
   "metadata": {},
   "outputs": [
    {
     "data": {
      "text/plain": [
       "(3000, 0.5696666666666667, 0.24636009802508288)"
      ]
     },
     "execution_count": 114,
     "metadata": {},
     "output_type": "execute_result"
    }
   ],
   "source": [
    "model.test(\"../training data/cooking.valid\")"
   ]
  },
  {
   "cell_type": "code",
   "execution_count": 115,
   "metadata": {},
   "outputs": [],
   "source": [
    "model = fasttext.train_supervised(input=\"../training data/cooking.train\", lr=1.0, epoch=25, wordNgrams=2, bucket=200000, dim=50, loss='hs')"
   ]
  },
  {
   "cell_type": "code",
   "execution_count": 116,
   "metadata": {},
   "outputs": [
    {
     "data": {
      "text/plain": [
       "(3000, 0.5406666666666666, 0.2338186535966556)"
      ]
     },
     "execution_count": 116,
     "metadata": {},
     "output_type": "execute_result"
    }
   ],
   "source": [
    "model.test(\"../training data/cooking.valid\")"
   ]
  },
  {
   "cell_type": "code",
   "execution_count": 118,
   "metadata": {},
   "outputs": [],
   "source": [
    "model = fasttext.train_supervised(input=\"../training data/cooking.train\", lr=0.5, epoch=25, wordNgrams=2, bucket=200000, dim=50, loss='ova')"
   ]
  },
  {
   "cell_type": "code",
   "execution_count": 119,
   "metadata": {},
   "outputs": [
    {
     "data": {
      "text/plain": [
       "(('__label__baking', '__label__bread', '__label__bananas'),\n",
       " array([1.00001001, 0.99850881, 0.93246335]))"
      ]
     },
     "execution_count": 119,
     "metadata": {},
     "output_type": "execute_result"
    }
   ],
   "source": [
    "model.predict(\"Which baking dish is best to bake a banana bread ?\", k=-1, threshold=0.5)"
   ]
  },
  {
   "cell_type": "markdown",
   "metadata": {},
   "source": [
    "### Making own dataset for stance classification"
   ]
  },
  {
   "cell_type": "code",
   "execution_count": 10,
   "metadata": {},
   "outputs": [],
   "source": [
    "trainTweets = pd.read_csv(\"data/training data/stance_classification/stance.train.preprocessed.tokenized.txt\", sep='\\t',header=0, encoding = \"ISO-8859-1\")"
   ]
  },
  {
   "cell_type": "code",
   "execution_count": 11,
   "metadata": {},
   "outputs": [],
   "source": [
    "testTweets = pd.read_csv(\"data/training data/stance_classification/stance.test.preprocessed.tokenized.txt\", sep='\\t',header=0, encoding = \"ISO-8859-1\")"
   ]
  },
  {
   "cell_type": "code",
   "execution_count": 12,
   "metadata": {},
   "outputs": [
    {
     "ename": "KeyError",
     "evalue": "'Target'",
     "output_type": "error",
     "traceback": [
      "\u001b[1;31m---------------------------------------------------------------------------\u001b[0m",
      "\u001b[1;31mKeyError\u001b[0m                                  Traceback (most recent call last)",
      "\u001b[1;32mc:\\users\\mateusz\\onedrive\\informatyka 6 semestr\\stance-tagger-kedro\\lib\\site-packages\\pandas\\core\\indexes\\base.py\u001b[0m in \u001b[0;36mget_loc\u001b[1;34m(self, key, method, tolerance)\u001b[0m\n\u001b[0;32m   2896\u001b[0m             \u001b[1;32mtry\u001b[0m\u001b[1;33m:\u001b[0m\u001b[1;33m\u001b[0m\u001b[0m\n\u001b[1;32m-> 2897\u001b[1;33m                 \u001b[1;32mreturn\u001b[0m \u001b[0mself\u001b[0m\u001b[1;33m.\u001b[0m\u001b[0m_engine\u001b[0m\u001b[1;33m.\u001b[0m\u001b[0mget_loc\u001b[0m\u001b[1;33m(\u001b[0m\u001b[0mkey\u001b[0m\u001b[1;33m)\u001b[0m\u001b[1;33m\u001b[0m\u001b[0m\n\u001b[0m\u001b[0;32m   2898\u001b[0m             \u001b[1;32mexcept\u001b[0m \u001b[0mKeyError\u001b[0m\u001b[1;33m:\u001b[0m\u001b[1;33m\u001b[0m\u001b[0m\n",
      "\u001b[1;32mpandas/_libs/index.pyx\u001b[0m in \u001b[0;36mpandas._libs.index.IndexEngine.get_loc\u001b[1;34m()\u001b[0m\n",
      "\u001b[1;32mpandas/_libs/index.pyx\u001b[0m in \u001b[0;36mpandas._libs.index.IndexEngine.get_loc\u001b[1;34m()\u001b[0m\n",
      "\u001b[1;32mpandas/_libs/hashtable_class_helper.pxi\u001b[0m in \u001b[0;36mpandas._libs.hashtable.PyObjectHashTable.get_item\u001b[1;34m()\u001b[0m\n",
      "\u001b[1;32mpandas/_libs/hashtable_class_helper.pxi\u001b[0m in \u001b[0;36mpandas._libs.hashtable.PyObjectHashTable.get_item\u001b[1;34m()\u001b[0m\n",
      "\u001b[1;31mKeyError\u001b[0m: 'Target'",
      "\nDuring handling of the above exception, another exception occurred:\n",
      "\u001b[1;31mKeyError\u001b[0m                                  Traceback (most recent call last)",
      "\u001b[1;32m<ipython-input-12-0c4be8ebb404>\u001b[0m in \u001b[0;36m<module>\u001b[1;34m\u001b[0m\n\u001b[1;32m----> 1\u001b[1;33m \u001b[0mtrainTweets\u001b[0m\u001b[1;33m[\u001b[0m\u001b[1;34m\"Target\"\u001b[0m\u001b[1;33m]\u001b[0m \u001b[1;33m=\u001b[0m \u001b[0mtrainTweets\u001b[0m\u001b[1;33m[\u001b[0m\u001b[1;34m\"Target\"\u001b[0m\u001b[1;33m]\u001b[0m\u001b[1;33m.\u001b[0m\u001b[0mapply\u001b[0m\u001b[1;33m(\u001b[0m\u001b[1;32mlambda\u001b[0m \u001b[0mx\u001b[0m\u001b[1;33m:\u001b[0m\u001b[0mx\u001b[0m\u001b[1;33m.\u001b[0m\u001b[0mreplace\u001b[0m\u001b[1;33m(\u001b[0m\u001b[1;34m\" \"\u001b[0m\u001b[1;33m,\u001b[0m\u001b[1;34m\"_\"\u001b[0m\u001b[1;33m)\u001b[0m\u001b[1;33m.\u001b[0m\u001b[0mlower\u001b[0m\u001b[1;33m(\u001b[0m\u001b[1;33m)\u001b[0m\u001b[1;33m)\u001b[0m\u001b[1;33m\u001b[0m\u001b[0m\n\u001b[0m\u001b[0;32m      2\u001b[0m \u001b[0mtestTweets\u001b[0m\u001b[1;33m[\u001b[0m\u001b[1;34m\"Target\"\u001b[0m\u001b[1;33m]\u001b[0m \u001b[1;33m=\u001b[0m \u001b[0mtestTweets\u001b[0m\u001b[1;33m[\u001b[0m\u001b[1;34m\"Target\"\u001b[0m\u001b[1;33m]\u001b[0m\u001b[1;33m.\u001b[0m\u001b[0mapply\u001b[0m\u001b[1;33m(\u001b[0m\u001b[1;32mlambda\u001b[0m \u001b[0mx\u001b[0m\u001b[1;33m:\u001b[0m\u001b[0mx\u001b[0m\u001b[1;33m.\u001b[0m\u001b[0mreplace\u001b[0m\u001b[1;33m(\u001b[0m\u001b[1;34m\" \"\u001b[0m\u001b[1;33m,\u001b[0m\u001b[1;34m\"_\"\u001b[0m\u001b[1;33m)\u001b[0m\u001b[1;33m.\u001b[0m\u001b[0mlower\u001b[0m\u001b[1;33m(\u001b[0m\u001b[1;33m)\u001b[0m\u001b[1;33m)\u001b[0m\u001b[1;33m\u001b[0m\u001b[0m\n",
      "\u001b[1;32mc:\\users\\mateusz\\onedrive\\informatyka 6 semestr\\stance-tagger-kedro\\lib\\site-packages\\pandas\\core\\frame.py\u001b[0m in \u001b[0;36m__getitem__\u001b[1;34m(self, key)\u001b[0m\n\u001b[0;32m   2993\u001b[0m             \u001b[1;32mif\u001b[0m \u001b[0mself\u001b[0m\u001b[1;33m.\u001b[0m\u001b[0mcolumns\u001b[0m\u001b[1;33m.\u001b[0m\u001b[0mnlevels\u001b[0m \u001b[1;33m>\u001b[0m \u001b[1;36m1\u001b[0m\u001b[1;33m:\u001b[0m\u001b[1;33m\u001b[0m\u001b[0m\n\u001b[0;32m   2994\u001b[0m                 \u001b[1;32mreturn\u001b[0m \u001b[0mself\u001b[0m\u001b[1;33m.\u001b[0m\u001b[0m_getitem_multilevel\u001b[0m\u001b[1;33m(\u001b[0m\u001b[0mkey\u001b[0m\u001b[1;33m)\u001b[0m\u001b[1;33m\u001b[0m\u001b[0m\n\u001b[1;32m-> 2995\u001b[1;33m             \u001b[0mindexer\u001b[0m \u001b[1;33m=\u001b[0m \u001b[0mself\u001b[0m\u001b[1;33m.\u001b[0m\u001b[0mcolumns\u001b[0m\u001b[1;33m.\u001b[0m\u001b[0mget_loc\u001b[0m\u001b[1;33m(\u001b[0m\u001b[0mkey\u001b[0m\u001b[1;33m)\u001b[0m\u001b[1;33m\u001b[0m\u001b[0m\n\u001b[0m\u001b[0;32m   2996\u001b[0m             \u001b[1;32mif\u001b[0m \u001b[0mis_integer\u001b[0m\u001b[1;33m(\u001b[0m\u001b[0mindexer\u001b[0m\u001b[1;33m)\u001b[0m\u001b[1;33m:\u001b[0m\u001b[1;33m\u001b[0m\u001b[0m\n\u001b[0;32m   2997\u001b[0m                 \u001b[0mindexer\u001b[0m \u001b[1;33m=\u001b[0m \u001b[1;33m[\u001b[0m\u001b[0mindexer\u001b[0m\u001b[1;33m]\u001b[0m\u001b[1;33m\u001b[0m\u001b[0m\n",
      "\u001b[1;32mc:\\users\\mateusz\\onedrive\\informatyka 6 semestr\\stance-tagger-kedro\\lib\\site-packages\\pandas\\core\\indexes\\base.py\u001b[0m in \u001b[0;36mget_loc\u001b[1;34m(self, key, method, tolerance)\u001b[0m\n\u001b[0;32m   2897\u001b[0m                 \u001b[1;32mreturn\u001b[0m \u001b[0mself\u001b[0m\u001b[1;33m.\u001b[0m\u001b[0m_engine\u001b[0m\u001b[1;33m.\u001b[0m\u001b[0mget_loc\u001b[0m\u001b[1;33m(\u001b[0m\u001b[0mkey\u001b[0m\u001b[1;33m)\u001b[0m\u001b[1;33m\u001b[0m\u001b[0m\n\u001b[0;32m   2898\u001b[0m             \u001b[1;32mexcept\u001b[0m \u001b[0mKeyError\u001b[0m\u001b[1;33m:\u001b[0m\u001b[1;33m\u001b[0m\u001b[0m\n\u001b[1;32m-> 2899\u001b[1;33m                 \u001b[1;32mreturn\u001b[0m \u001b[0mself\u001b[0m\u001b[1;33m.\u001b[0m\u001b[0m_engine\u001b[0m\u001b[1;33m.\u001b[0m\u001b[0mget_loc\u001b[0m\u001b[1;33m(\u001b[0m\u001b[0mself\u001b[0m\u001b[1;33m.\u001b[0m\u001b[0m_maybe_cast_indexer\u001b[0m\u001b[1;33m(\u001b[0m\u001b[0mkey\u001b[0m\u001b[1;33m)\u001b[0m\u001b[1;33m)\u001b[0m\u001b[1;33m\u001b[0m\u001b[0m\n\u001b[0m\u001b[0;32m   2900\u001b[0m         \u001b[0mindexer\u001b[0m \u001b[1;33m=\u001b[0m \u001b[0mself\u001b[0m\u001b[1;33m.\u001b[0m\u001b[0mget_indexer\u001b[0m\u001b[1;33m(\u001b[0m\u001b[1;33m[\u001b[0m\u001b[0mkey\u001b[0m\u001b[1;33m]\u001b[0m\u001b[1;33m,\u001b[0m \u001b[0mmethod\u001b[0m\u001b[1;33m=\u001b[0m\u001b[0mmethod\u001b[0m\u001b[1;33m,\u001b[0m \u001b[0mtolerance\u001b[0m\u001b[1;33m=\u001b[0m\u001b[0mtolerance\u001b[0m\u001b[1;33m)\u001b[0m\u001b[1;33m\u001b[0m\u001b[0m\n\u001b[0;32m   2901\u001b[0m         \u001b[1;32mif\u001b[0m \u001b[0mindexer\u001b[0m\u001b[1;33m.\u001b[0m\u001b[0mndim\u001b[0m \u001b[1;33m>\u001b[0m \u001b[1;36m1\u001b[0m \u001b[1;32mor\u001b[0m \u001b[0mindexer\u001b[0m\u001b[1;33m.\u001b[0m\u001b[0msize\u001b[0m \u001b[1;33m>\u001b[0m \u001b[1;36m1\u001b[0m\u001b[1;33m:\u001b[0m\u001b[1;33m\u001b[0m\u001b[0m\n",
      "\u001b[1;32mpandas/_libs/index.pyx\u001b[0m in \u001b[0;36mpandas._libs.index.IndexEngine.get_loc\u001b[1;34m()\u001b[0m\n",
      "\u001b[1;32mpandas/_libs/index.pyx\u001b[0m in \u001b[0;36mpandas._libs.index.IndexEngine.get_loc\u001b[1;34m()\u001b[0m\n",
      "\u001b[1;32mpandas/_libs/hashtable_class_helper.pxi\u001b[0m in \u001b[0;36mpandas._libs.hashtable.PyObjectHashTable.get_item\u001b[1;34m()\u001b[0m\n",
      "\u001b[1;32mpandas/_libs/hashtable_class_helper.pxi\u001b[0m in \u001b[0;36mpandas._libs.hashtable.PyObjectHashTable.get_item\u001b[1;34m()\u001b[0m\n",
      "\u001b[1;31mKeyError\u001b[0m: 'Target'"
     ]
    }
   ],
   "source": [
    "trainTweets[\"Target\"] = trainTweets[\"Target\"].apply(lambda x:x.replace(\" \",\"_\").lower())\n",
    "testTweets[\"Target\"] = testTweets[\"Target\"].apply(lambda x:x.replace(\" \",\"_\").lower())"
   ]
  },
  {
   "cell_type": "markdown",
   "metadata": {},
   "source": [
    "#### take all rows where stance is NONE and assign them to one dataframe"
   ]
  },
  {
   "cell_type": "code",
   "execution_count": 7,
   "metadata": {},
   "outputs": [],
   "source": [
    "trainTweetsWithStance = trainTweets[trainTweets[\"Stance\"] != \"NONE\"]"
   ]
  },
  {
   "cell_type": "code",
   "execution_count": 8,
   "metadata": {},
   "outputs": [],
   "source": [
    "trainTweetsWithStanceRelCols = trainTweetsWithStance[[\"Target\",\"Stance\",\"Tweet\"]]"
   ]
  },
  {
   "cell_type": "code",
   "execution_count": 9,
   "metadata": {
    "scrolled": true
   },
   "outputs": [
    {
     "name": "stderr",
     "output_type": "stream",
     "text": [
      "C:\\Users\\Mateusz Baryla\\AppData\\Local\\Continuum\\Anaconda3\\lib\\site-packages\\ipykernel_launcher.py:1: SettingWithCopyWarning: \n",
      "A value is trying to be set on a copy of a slice from a DataFrame.\n",
      "Try using .loc[row_indexer,col_indexer] = value instead\n",
      "\n",
      "See the caveats in the documentation: http://pandas.pydata.org/pandas-docs/stable/indexing.html#indexing-view-versus-copy\n",
      "  \"\"\"Entry point for launching an IPython kernel.\n"
     ]
    }
   ],
   "source": [
    "trainTweetsWithStanceRelCols[\"label\"] = \"__label__\" + trainTweetsWithStanceRelCols[\"Target\"] "
   ]
  },
  {
   "cell_type": "code",
   "execution_count": 10,
   "metadata": {},
   "outputs": [],
   "source": [
    "#trainTweetsWithStanceRelCols[\"TweetTokenized\"] = trainTweetsWithStanceRelCols[\"Tweet\"].apply(createTokens)"
   ]
  },
  {
   "cell_type": "code",
   "execution_count": 11,
   "metadata": {},
   "outputs": [
    {
     "name": "stderr",
     "output_type": "stream",
     "text": [
      "C:\\Users\\Mateusz Baryla\\AppData\\Local\\Continuum\\Anaconda3\\lib\\site-packages\\ipykernel_launcher.py:1: SettingWithCopyWarning: \n",
      "A value is trying to be set on a copy of a slice from a DataFrame.\n",
      "Try using .loc[row_indexer,col_indexer] = value instead\n",
      "\n",
      "See the caveats in the documentation: http://pandas.pydata.org/pandas-docs/stable/indexing.html#indexing-view-versus-copy\n",
      "  \"\"\"Entry point for launching an IPython kernel.\n"
     ]
    }
   ],
   "source": [
    "trainTweetsWithStanceRelCols[\"Final\"] = trainTweetsWithStanceRelCols[\"label\"] + \" \" + trainTweetsWithStanceRelCols[\"Tweet\"]"
   ]
  },
  {
   "cell_type": "code",
   "execution_count": 12,
   "metadata": {},
   "outputs": [],
   "source": [
    "trainTweetsWithStanceRelCols[[\"Final\"]].to_csv(\"../training data/stance.train.preprocessed.txt\",\n",
    "                                                                 header = None, index=False, sep=\"|\",\n",
    "                                                                quoting = csv.QUOTE_NONE,\n",
    "                                                               quotechar = '',escapechar='\\\\')"
   ]
  },
  {
   "cell_type": "code",
   "execution_count": 13,
   "metadata": {},
   "outputs": [],
   "source": [
    "trainTweetsWithStanceRelCols.to_csv(\"stance.dataframe.preprocessed.txt\",\n",
    "                                         header= None)"
   ]
  },
  {
   "cell_type": "markdown",
   "metadata": {},
   "source": [
    "#### test set"
   ]
  },
  {
   "cell_type": "code",
   "execution_count": 118,
   "metadata": {},
   "outputs": [],
   "source": [
    "testTweetsWithStance = testTweets[(testTweets[\"Stance\"] != \"NONE\")]"
   ]
  },
  {
   "cell_type": "code",
   "execution_count": 119,
   "metadata": {},
   "outputs": [],
   "source": [
    "testTweetsWithStanceRelCols = testTweetsWithStance[[\"Target\",\"Stance\",\"Tweet\"]]"
   ]
  },
  {
   "cell_type": "code",
   "execution_count": 120,
   "metadata": {
    "scrolled": true
   },
   "outputs": [
    {
     "name": "stderr",
     "output_type": "stream",
     "text": [
      "C:\\Users\\Mateusz Baryla\\AppData\\Local\\Continuum\\Anaconda3\\lib\\site-packages\\ipykernel_launcher.py:1: SettingWithCopyWarning: \n",
      "A value is trying to be set on a copy of a slice from a DataFrame.\n",
      "Try using .loc[row_indexer,col_indexer] = value instead\n",
      "\n",
      "See the caveats in the documentation: http://pandas.pydata.org/pandas-docs/stable/indexing.html#indexing-view-versus-copy\n",
      "  \"\"\"Entry point for launching an IPython kernel.\n"
     ]
    }
   ],
   "source": [
    "testTweetsWithStanceRelCols[\"label\"] = \"__label__\"+testTweetsWithStance[\"Target\"]"
   ]
  },
  {
   "cell_type": "code",
   "execution_count": 121,
   "metadata": {},
   "outputs": [],
   "source": [
    "#testTweetsWithStanceRelCols[\"TweetTokenized\"] = testTweetsWithStanceRelCols[\"Tweet\"].apply(createTokens)"
   ]
  },
  {
   "cell_type": "code",
   "execution_count": 122,
   "metadata": {},
   "outputs": [
    {
     "name": "stderr",
     "output_type": "stream",
     "text": [
      "C:\\Users\\Mateusz Baryla\\AppData\\Local\\Continuum\\Anaconda3\\lib\\site-packages\\ipykernel_launcher.py:1: SettingWithCopyWarning: \n",
      "A value is trying to be set on a copy of a slice from a DataFrame.\n",
      "Try using .loc[row_indexer,col_indexer] = value instead\n",
      "\n",
      "See the caveats in the documentation: http://pandas.pydata.org/pandas-docs/stable/indexing.html#indexing-view-versus-copy\n",
      "  \"\"\"Entry point for launching an IPython kernel.\n"
     ]
    }
   ],
   "source": [
    "testTweetsWithStanceRelCols[\"Final\"] = testTweetsWithStanceRelCols[\"label\"] + \" \" + testTweetsWithStanceRelCols[\"Tweet\"]"
   ]
  },
  {
   "cell_type": "code",
   "execution_count": 123,
   "metadata": {},
   "outputs": [],
   "source": [
    "testTweetsWithStanceRelCols[[\"Final\"]].to_csv(\"../training data/stance.valid.preprocessed.txt\",\n",
    "                                                                 header = None, index=False, sep=\"|\",\n",
    "                                                                quoting = csv.QUOTE_NONE,\n",
    "                                                               quotechar = '',escapechar='\\\\')"
   ]
  },
  {
   "cell_type": "code",
   "execution_count": 124,
   "metadata": {},
   "outputs": [],
   "source": [
    "testTweetsWithStanceRelCols.to_csv(\"stance.dataframe.valid.preprocessed.txt\",\n",
    "                                         header= None)"
   ]
  },
  {
   "cell_type": "markdown",
   "metadata": {},
   "source": [
    "### Build model for text classification"
   ]
  },
  {
   "cell_type": "code",
   "execution_count": null,
   "metadata": {},
   "outputs": [],
   "source": [
    "context."
   ]
  },
  {
   "cell_type": "code",
   "execution_count": 135,
   "metadata": {},
   "outputs": [],
   "source": [
    "model = fasttext.train_supervised(input=\"../training data/stance.train.preprocessed.txt\",\n",
    "                                 lr=0.5, epoch=25, wordNgrams=2, bucket=200000, dim=50, loss='hs')"
   ]
  },
  {
   "cell_type": "code",
   "execution_count": 136,
   "metadata": {},
   "outputs": [
    {
     "data": {
      "text/plain": [
       "['__label__feminist_movement',\n",
       " '__label__hillary_clinton',\n",
       " '__label__legalization_of_abortion',\n",
       " '__label__atheism',\n",
       " '__label__climate_change_is_a_real_concern']"
      ]
     },
     "execution_count": 136,
     "metadata": {},
     "output_type": "execute_result"
    }
   ],
   "source": [
    "model.get_labels()"
   ]
  },
  {
   "cell_type": "code",
   "execution_count": 137,
   "metadata": {},
   "outputs": [],
   "source": [
    "model.save_model(\"../models/model_stances.bin\")"
   ]
  },
  {
   "cell_type": "code",
   "execution_count": 138,
   "metadata": {},
   "outputs": [
    {
     "data": {
      "text/plain": [
       "(1019, 0.6025515210991168, 0.6025515210991168)"
      ]
     },
     "execution_count": 138,
     "metadata": {},
     "output_type": "execute_result"
    }
   ],
   "source": [
    "model.test(\"../training data/stance.valid.preprocessed.txt\")"
   ]
  },
  {
   "cell_type": "code",
   "execution_count": 129,
   "metadata": {},
   "outputs": [
    {
     "data": {
      "text/plain": [
       "(1019, 0.2, 1.0)"
      ]
     },
     "execution_count": 129,
     "metadata": {},
     "output_type": "execute_result"
    }
   ],
   "source": [
    "model.test(\"../training data/stance.valid.preprocessed.txt\", k=5)"
   ]
  },
  {
   "cell_type": "markdown",
   "metadata": {},
   "source": [
    "### Build model for stance/no-stance detection"
   ]
  },
  {
   "cell_type": "code",
   "execution_count": 68,
   "metadata": {},
   "outputs": [],
   "source": [
    "trainTweetsStanceNoStanceRelCols = trainTweets[[\"Target\",\"Stance\",\"Tweet\"]]"
   ]
  },
  {
   "cell_type": "code",
   "execution_count": 69,
   "metadata": {},
   "outputs": [
    {
     "name": "stderr",
     "output_type": "stream",
     "text": [
      "C:\\Users\\Mateusz Baryla\\AppData\\Local\\Continuum\\Anaconda3\\lib\\site-packages\\ipykernel_launcher.py:1: SettingWithCopyWarning: \n",
      "A value is trying to be set on a copy of a slice from a DataFrame.\n",
      "Try using .loc[row_indexer,col_indexer] = value instead\n",
      "\n",
      "See the caveats in the documentation: http://pandas.pydata.org/pandas-docs/stable/indexing.html#indexing-view-versus-copy\n",
      "  \"\"\"Entry point for launching an IPython kernel.\n"
     ]
    }
   ],
   "source": [
    "trainTweetsStanceNoStanceRelCols[\"label\"] = np.where(trainTweetsStanceNoStanceRelCols[\"Stance\"] == \"NONE\", \"__label__stance\" ,\"__label__nostance\")"
   ]
  },
  {
   "cell_type": "code",
   "execution_count": null,
   "metadata": {},
   "outputs": [],
   "source": [
    "trainTweetsWithStanceRelCols[\"TweetTokenized\"] = trainTweetsWithStanceRelCols[\"Tweet\"].apply(createTokens)"
   ]
  },
  {
   "cell_type": "code",
   "execution_count": 17,
   "metadata": {},
   "outputs": [
    {
     "name": "stderr",
     "output_type": "stream",
     "text": [
      "C:\\Users\\Mateusz Baryla\\AppData\\Local\\Continuum\\Anaconda3\\lib\\site-packages\\ipykernel_launcher.py:1: SettingWithCopyWarning: \n",
      "A value is trying to be set on a copy of a slice from a DataFrame.\n",
      "Try using .loc[row_indexer,col_indexer] = value instead\n",
      "\n",
      "See the caveats in the documentation: http://pandas.pydata.org/pandas-docs/stable/indexing.html#indexing-view-versus-copy\n",
      "  \"\"\"Entry point for launching an IPython kernel.\n"
     ]
    }
   ],
   "source": [
    "trainTweetsStanceNoStanceRelCols[\"Final\"] = trainTweetsStanceNoStanceRelCols[\"label\"] + \" \" + trainTweetsStanceNoStanceRelCols[\"Tweet\"]"
   ]
  },
  {
   "cell_type": "code",
   "execution_count": 18,
   "metadata": {},
   "outputs": [],
   "source": [
    "trainTweetsStanceNoStanceRelCols[[\"Final\"]].to_csv(\"../training data/stance.train.preprocessed.txt\",\n",
    "                                                                 header = None, index=False, sep=\"|\",\n",
    "                                                                quoting = csv.QUOTE_NONE,\n",
    "                                                               quotechar = '',escapechar='\\\\')"
   ]
  },
  {
   "cell_type": "code",
   "execution_count": 19,
   "metadata": {},
   "outputs": [],
   "source": [
    "trainTweetsStanceNoStanceRelCols.to_csv(\"stance.dataframe.preprocessed.txt\",\n",
    "                                         header= None)"
   ]
  },
  {
   "cell_type": "markdown",
   "metadata": {},
   "source": [
    "#### test set"
   ]
  },
  {
   "cell_type": "code",
   "execution_count": 20,
   "metadata": {},
   "outputs": [],
   "source": [
    "testTweetsStanceNoStanceRelCols = testTweets[[\"Target\",\"Stance\",\"Tweet\"]]"
   ]
  },
  {
   "cell_type": "code",
   "execution_count": 21,
   "metadata": {},
   "outputs": [
    {
     "name": "stderr",
     "output_type": "stream",
     "text": [
      "C:\\Users\\Mateusz Baryla\\AppData\\Local\\Continuum\\Anaconda3\\lib\\site-packages\\ipykernel_launcher.py:1: SettingWithCopyWarning: \n",
      "A value is trying to be set on a copy of a slice from a DataFrame.\n",
      "Try using .loc[row_indexer,col_indexer] = value instead\n",
      "\n",
      "See the caveats in the documentation: http://pandas.pydata.org/pandas-docs/stable/indexing.html#indexing-view-versus-copy\n",
      "  \"\"\"Entry point for launching an IPython kernel.\n"
     ]
    }
   ],
   "source": [
    "testTweetsStanceNoStanceRelCols[\"label\"] = np.where(testTweetsStanceNoStanceRelCols[\"Stance\"] == \"NONE\",\\\n",
    "                                                    \"__label__stance\" ,\"__label__nostance\")"
   ]
  },
  {
   "cell_type": "code",
   "execution_count": 22,
   "metadata": {},
   "outputs": [],
   "source": [
    "#trainTweetsWithStanceRelCols[\"TweetTokenized\"] = trainTweetsWithStanceRelCols[\"Tweet\"].apply(createTokens)"
   ]
  },
  {
   "cell_type": "code",
   "execution_count": 23,
   "metadata": {},
   "outputs": [
    {
     "name": "stderr",
     "output_type": "stream",
     "text": [
      "C:\\Users\\Mateusz Baryla\\AppData\\Local\\Continuum\\Anaconda3\\lib\\site-packages\\ipykernel_launcher.py:1: SettingWithCopyWarning: \n",
      "A value is trying to be set on a copy of a slice from a DataFrame.\n",
      "Try using .loc[row_indexer,col_indexer] = value instead\n",
      "\n",
      "See the caveats in the documentation: http://pandas.pydata.org/pandas-docs/stable/indexing.html#indexing-view-versus-copy\n",
      "  \"\"\"Entry point for launching an IPython kernel.\n"
     ]
    }
   ],
   "source": [
    "testTweetsStanceNoStanceRelCols[\"Final\"] = testTweetsStanceNoStanceRelCols[\"label\"] + \" \" + testTweetsStanceNoStanceRelCols[\"Tweet\"]"
   ]
  },
  {
   "cell_type": "code",
   "execution_count": 24,
   "metadata": {},
   "outputs": [],
   "source": [
    "testTweetsStanceNoStanceRelCols[[\"Final\"]].to_csv(\"../training data/stance.valid.preprocessed.txt\",\n",
    "                                                                 header = None, index=False, sep=\"|\",\n",
    "                                                                quoting = csv.QUOTE_NONE,\n",
    "                                                               quotechar = '',escapechar='\\\\')"
   ]
  },
  {
   "cell_type": "code",
   "execution_count": 25,
   "metadata": {},
   "outputs": [],
   "source": [
    "trainTweetsStanceNoStanceRelCols.to_csv(\"stance.dataframe.preprocessed.txt\",\n",
    "                                         header= None)"
   ]
  },
  {
   "cell_type": "markdown",
   "metadata": {},
   "source": [
    "### Test model stance no stance \n"
   ]
  },
  {
   "cell_type": "code",
   "execution_count": 59,
   "metadata": {},
   "outputs": [],
   "source": [
    "model = fasttext.train_supervised(input=\"../training data/stance.train.preprocessed.txt\",\n",
    "                                 lr=0.5, epoch=25, wordNgrams=2, bucket=200000, dim=50, loss='hs')"
   ]
  },
  {
   "cell_type": "code",
   "execution_count": 60,
   "metadata": {},
   "outputs": [
    {
     "data": {
      "text/plain": [
       "['__label__nostance', '__label__stance']"
      ]
     },
     "execution_count": 60,
     "metadata": {},
     "output_type": "execute_result"
    }
   ],
   "source": [
    "model.get_labels()"
   ]
  },
  {
   "cell_type": "code",
   "execution_count": 61,
   "metadata": {},
   "outputs": [],
   "source": [
    "model.save_model(\"../models/model_stance_nostance.bin\")"
   ]
  },
  {
   "cell_type": "code",
   "execution_count": 62,
   "metadata": {},
   "outputs": [
    {
     "data": {
      "text/plain": [
       "(1249, 0.8070456365092074, 0.8070456365092074)"
      ]
     },
     "execution_count": 62,
     "metadata": {},
     "output_type": "execute_result"
    }
   ],
   "source": [
    "model.test(\"../training data/stance.valid.preprocessed.txt\")"
   ]
  },
  {
   "cell_type": "code",
   "execution_count": 63,
   "metadata": {},
   "outputs": [
    {
     "data": {
      "text/plain": [
       "{'precision': 0.8319112627986348,\n",
       " 'recall': 0.956820412168793,\n",
       " 'f1score': 0.8900045641259698}"
      ]
     },
     "execution_count": 63,
     "metadata": {},
     "output_type": "execute_result"
    }
   ],
   "source": [
    "model.test_label(\"../training data/stance.valid.preprocessed.txt\")['__label__nostance']"
   ]
  },
  {
   "cell_type": "code",
   "execution_count": 64,
   "metadata": {},
   "outputs": [
    {
     "data": {
      "text/plain": [
       "{'precision': 0.42857142857142855,\n",
       " 'recall': 0.14347826086956522,\n",
       " 'f1score': 0.21498371335504887}"
      ]
     },
     "execution_count": 64,
     "metadata": {},
     "output_type": "execute_result"
    }
   ],
   "source": [
    "model.test_label(\"../training data/stance.valid.preprocessed.txt\")['__label__stance']"
   ]
  },
  {
   "cell_type": "code",
   "execution_count": 65,
   "metadata": {},
   "outputs": [
    {
     "data": {
      "text/plain": [
       "0.8070456365092074"
      ]
     },
     "execution_count": 65,
     "metadata": {},
     "output_type": "execute_result"
    }
   ],
   "source": [
    "model.test(\"../training data/stance.valid.preprocessed.txt\", k = 1)[1]"
   ]
  },
  {
   "cell_type": "markdown",
   "metadata": {},
   "source": [
    "### Hyperparameter tuning"
   ]
  },
  {
   "cell_type": "code",
   "execution_count": 24,
   "metadata": {},
   "outputs": [
    {
     "name": "stderr",
     "output_type": "stream",
     "text": [
      "\n"
     ]
    }
   ],
   "source": [
    "model = fasttext.load_model(\"../models/model_stance_nostance.bin\")"
   ]
  },
  {
   "cell_type": "code",
   "execution_count": 80,
   "metadata": {},
   "outputs": [
    {
     "data": {
      "text/plain": [
       "{'precision': 0.8313458262350937,\n",
       " 'recall': 0.957801766437684,\n",
       " 'f1score': 0.8901048791609667}"
      ]
     },
     "execution_count": 80,
     "metadata": {},
     "output_type": "execute_result"
    }
   ],
   "source": [
    "model.test_label(\"../training data/stance.valid.preprocessed.txt\")['__label__nostance']"
   ]
  },
  {
   "cell_type": "code",
   "execution_count": 81,
   "metadata": {},
   "outputs": [
    {
     "data": {
      "text/plain": [
       "{'precision': 0.4266666666666667,\n",
       " 'recall': 0.1391304347826087,\n",
       " 'f1score': 0.2098360655737705}"
      ]
     },
     "execution_count": 81,
     "metadata": {},
     "output_type": "execute_result"
    }
   ],
   "source": [
    "model.test_label(\"../training data/stance.valid.preprocessed.txt\")['__label__stance']"
   ]
  },
  {
   "cell_type": "code",
   "execution_count": 88,
   "metadata": {},
   "outputs": [],
   "source": [
    "res = model.predict(\"he who exalt himself shall be humbl and he who humbl himself shall be sem\", k=2)"
   ]
  },
  {
   "cell_type": "code",
   "execution_count": 109,
   "metadata": {},
   "outputs": [
    {
     "data": {
      "text/plain": [
       "'__label__nostance'"
      ]
     },
     "execution_count": 109,
     "metadata": {},
     "output_type": "execute_result"
    }
   ],
   "source": [
    "model.predict(row[\"Target\"])[0][0]"
   ]
  },
  {
   "cell_type": "code",
   "execution_count": 118,
   "metadata": {
    "scrolled": true
   },
   "outputs": [],
   "source": [
    "for i,row in testTweets.iterrows():\n",
    "    if model.predict(row[\"Target\"])[0][0] == '__label__stance':\n",
    "        print(i,\"stance detected\")"
   ]
  },
  {
   "cell_type": "code",
   "execution_count": 26,
   "metadata": {},
   "outputs": [
    {
     "name": "stderr",
     "output_type": "stream",
     "text": [
      "\n"
     ]
    }
   ],
   "source": [
    "model = fasttext.load_model(\"../models/model_stance_classification.bin\")"
   ]
  },
  {
   "cell_type": "code",
   "execution_count": 27,
   "metadata": {},
   "outputs": [
    {
     "data": {
      "text/plain": [
       "['__label__feminist_movement',\n",
       " '__label__hillary_clinton',\n",
       " '__label__legalization_of_abortion',\n",
       " '__label__atheism',\n",
       " '__label__climate_change_is_a_real_concern']"
      ]
     },
     "execution_count": 27,
     "metadata": {},
     "output_type": "execute_result"
    }
   ],
   "source": [
    "model.get_labels()"
   ]
  },
  {
   "cell_type": "code",
   "execution_count": 28,
   "metadata": {},
   "outputs": [
    {
     "name": "stdout",
     "output_type": "stream",
     "text": [
      "__label__feminist_movement {'precision': 0.7282608695652174, 'recall': 0.8340248962655602, 'f1score': 0.7775628626692457}\n",
      "\n",
      "__label__hillary_clinton {'precision': 0.8712871287128713, 'recall': 0.8110599078341014, 'f1score': 0.8400954653937948}\n",
      "\n",
      "__label__legalization_of_abortion {'precision': 0.8198757763975155, 'recall': 0.5617021276595745, 'f1score': 0.6666666666666666}\n",
      "\n",
      "__label__atheism {'precision': 0.7795698924731183, 'recall': 0.7552083333333334, 'f1score': 0.7671957671957672}\n",
      "\n",
      "__label__climate_change_is_a_real_concern {'precision': 0.5927835051546392, 'recall': 0.8582089552238806, 'f1score': 0.7012195121951219}\n",
      "\n"
     ]
    }
   ],
   "source": [
    "for model_str in model.get_labels():\n",
    "    print(model_str, model.test_label(\"../training data/stance_classification/stance.test.preprocessed.tokenized.txt\")[model_str])\n",
    "    print()"
   ]
  },
  {
   "cell_type": "code",
   "execution_count": 29,
   "metadata": {},
   "outputs": [
    {
     "data": {
      "text/plain": [
       "(1019, 0.7546614327772326, 0.7546614327772326)"
      ]
     },
     "execution_count": 29,
     "metadata": {},
     "output_type": "execute_result"
    }
   ],
   "source": [
    "model.test(\"../training data/stance_classification/stance.test.preprocessed.tokenized.txt\")"
   ]
  },
  {
   "cell_type": "markdown",
   "metadata": {},
   "source": [
    "### Build model for favour/against"
   ]
  },
  {
   "cell_type": "code",
   "execution_count": 30,
   "metadata": {},
   "outputs": [],
   "source": [
    "trainTweets = pd.read_csv(\"../training data/training.txt\", sep='\\t',header=0, encoding = \"ISO-8859-1\")"
   ]
  },
  {
   "cell_type": "code",
   "execution_count": 31,
   "metadata": {},
   "outputs": [],
   "source": [
    "testTweets = pd.read_csv(\"../training data/test.txt\", sep='\\t',header=0, encoding = \"ISO-8859-1\")"
   ]
  },
  {
   "cell_type": "code",
   "execution_count": 55,
   "metadata": {},
   "outputs": [],
   "source": [
    "trainTweets[\"Target\"] = trainTweets[\"Target\"].apply(lambda x:x.replace(\" \",\"_\").lower())\n",
    "testTweets[\"Target\"] = testTweets[\"Target\"].apply(lambda x:x.replace(\" \",\"_\").lower())"
   ]
  },
  {
   "cell_type": "markdown",
   "metadata": {},
   "source": [
    "#### train tweets"
   ]
  },
  {
   "cell_type": "code",
   "execution_count": 80,
   "metadata": {},
   "outputs": [],
   "source": [
    "trainTweets = trainTweets[trainTweets[\"Stance\"] != \"NONE\"].reset_index(drop=True)"
   ]
  },
  {
   "cell_type": "code",
   "execution_count": 81,
   "metadata": {
    "scrolled": true
   },
   "outputs": [],
   "source": [
    "train_tokenized = pd.read_csv(\"../training data/stance_classification/stance.train.preprocessed.tokenized.txt\", header = None, names=[\"text\"])"
   ]
  },
  {
   "cell_type": "code",
   "execution_count": 82,
   "metadata": {
    "scrolled": true
   },
   "outputs": [
    {
     "data": {
      "text/html": [
       "<div>\n",
       "<style scoped>\n",
       "    .dataframe tbody tr th:only-of-type {\n",
       "        vertical-align: middle;\n",
       "    }\n",
       "\n",
       "    .dataframe tbody tr th {\n",
       "        vertical-align: top;\n",
       "    }\n",
       "\n",
       "    .dataframe thead th {\n",
       "        text-align: right;\n",
       "    }\n",
       "</style>\n",
       "<table border=\"1\" class=\"dataframe\">\n",
       "  <thead>\n",
       "    <tr style=\"text-align: right;\">\n",
       "      <th></th>\n",
       "      <th>label</th>\n",
       "      <th>prep_text</th>\n",
       "    </tr>\n",
       "  </thead>\n",
       "  <tbody>\n",
       "    <tr>\n",
       "      <th>0</th>\n",
       "      <td>__label__atheism</td>\n",
       "      <td>dear lord thank u for all of ur bless forgiv m...</td>\n",
       "    </tr>\n",
       "    <tr>\n",
       "      <th>1</th>\n",
       "      <td>__label__atheism</td>\n",
       "      <td>bless are the peacemak for they shall be call ...</td>\n",
       "    </tr>\n",
       "    <tr>\n",
       "      <th>2</th>\n",
       "      <td>__label__atheism</td>\n",
       "      <td>i am not conform to this world i am transform ...</td>\n",
       "    </tr>\n",
       "    <tr>\n",
       "      <th>3</th>\n",
       "      <td>__label__atheism</td>\n",
       "      <td>salah should be pray with focus and understand...</td>\n",
       "    </tr>\n",
       "    <tr>\n",
       "      <th>4</th>\n",
       "      <td>__label__atheism</td>\n",
       "      <td>and stay in your hous and do not display yours...</td>\n",
       "    </tr>\n",
       "    <tr>\n",
       "      <th>5</th>\n",
       "      <td>__label__atheism</td>\n",
       "      <td>if we are unsur whether someth is halal or har...</td>\n",
       "    </tr>\n",
       "    <tr>\n",
       "      <th>6</th>\n",
       "      <td>__label__atheism</td>\n",
       "      <td>papa god i pray that you shower me with more p...</td>\n",
       "    </tr>\n",
       "    <tr>\n",
       "      <th>7</th>\n",
       "      <td>__label__atheism</td>\n",
       "      <td>now that the s c o c has rule canadian have fr...</td>\n",
       "    </tr>\n",
       "    <tr>\n",
       "      <th>8</th>\n",
       "      <td>__label__atheism</td>\n",
       "      <td>everyon is abl to believ in whatev they want f...</td>\n",
       "    </tr>\n",
       "    <tr>\n",
       "      <th>9</th>\n",
       "      <td>__label__atheism</td>\n",
       "      <td>the best of you are those who best treat their...</td>\n",
       "    </tr>\n",
       "    <tr>\n",
       "      <th>10</th>\n",
       "      <td>__label__atheism</td>\n",
       "      <td>r t prayerbullet let the righteous peac and jo...</td>\n",
       "    </tr>\n",
       "    <tr>\n",
       "      <th>11</th>\n",
       "      <td>__label__atheism</td>\n",
       "      <td>s t o p hold your peac and allow the all power...</td>\n",
       "    </tr>\n",
       "    <tr>\n",
       "      <th>12</th>\n",
       "      <td>__label__atheism</td>\n",
       "      <td>faith see the invis believ the incred and rece...</td>\n",
       "    </tr>\n",
       "    <tr>\n",
       "      <th>13</th>\n",
       "      <td>__label__atheism</td>\n",
       "      <td>prophet muhammad said exchang gift for it will...</td>\n",
       "    </tr>\n",
       "    <tr>\n",
       "      <th>14</th>\n",
       "      <td>__label__atheism</td>\n",
       "      <td>celebr atheism is begin to irk me initforthemo...</td>\n",
       "    </tr>\n",
       "    <tr>\n",
       "      <th>15</th>\n",
       "      <td>__label__atheism</td>\n",
       "      <td>leav christian enabl you to love the peopl you...</td>\n",
       "    </tr>\n",
       "    <tr>\n",
       "      <th>16</th>\n",
       "      <td>__label__atheism</td>\n",
       "      <td>clear your thought look up to the sky s o m e ...</td>\n",
       "    </tr>\n",
       "    <tr>\n",
       "      <th>17</th>\n",
       "      <td>__label__atheism</td>\n",
       "      <td>heaven and the earth were one connect entiti t...</td>\n",
       "    </tr>\n",
       "    <tr>\n",
       "      <th>18</th>\n",
       "      <td>__label__atheism</td>\n",
       "      <td>could all those who believ in a god pleas leav...</td>\n",
       "    </tr>\n",
       "    <tr>\n",
       "      <th>19</th>\n",
       "      <td>__label__atheism</td>\n",
       "      <td>the devil is our enemi and our mind is the bat...</td>\n",
       "    </tr>\n",
       "    <tr>\n",
       "      <th>20</th>\n",
       "      <td>__label__atheism</td>\n",
       "      <td>the odd are alreadi stack in our favor if we b...</td>\n",
       "    </tr>\n",
       "    <tr>\n",
       "      <th>21</th>\n",
       "      <td>__label__atheism</td>\n",
       "      <td>when it come to scientif discoveri the religi ...</td>\n",
       "    </tr>\n",
       "    <tr>\n",
       "      <th>22</th>\n",
       "      <td>__label__atheism</td>\n",
       "      <td>you can look at other with envi or look to god...</td>\n",
       "    </tr>\n",
       "    <tr>\n",
       "      <th>23</th>\n",
       "      <td>__label__atheism</td>\n",
       "      <td>if the purpos of life is to becom wealthi ther...</td>\n",
       "    </tr>\n",
       "    <tr>\n",
       "      <th>24</th>\n",
       "      <td>__label__atheism</td>\n",
       "      <td>if you do feel the need for then you do desir ...</td>\n",
       "    </tr>\n",
       "    <tr>\n",
       "      <th>25</th>\n",
       "      <td>__label__atheism</td>\n",
       "      <td>holi mari mother of god pray for us sinner now...</td>\n",
       "    </tr>\n",
       "    <tr>\n",
       "      <th>26</th>\n",
       "      <td>__label__atheism</td>\n",
       "      <td>holi mari mother of god pray for us sinner now...</td>\n",
       "    </tr>\n",
       "    <tr>\n",
       "      <th>27</th>\n",
       "      <td>__label__atheism</td>\n",
       "      <td>what i see in the natur will not stop what god...</td>\n",
       "    </tr>\n",
       "    <tr>\n",
       "      <th>28</th>\n",
       "      <td>__label__atheism</td>\n",
       "      <td>religion stop be credibl the minut the first d...</td>\n",
       "    </tr>\n",
       "    <tr>\n",
       "      <th>29</th>\n",
       "      <td>__label__atheism</td>\n",
       "      <td>in the absenc of god what are you you are noth...</td>\n",
       "    </tr>\n",
       "    <tr>\n",
       "      <th>...</th>\n",
       "      <td>...</td>\n",
       "      <td>...</td>\n",
       "    </tr>\n",
       "    <tr>\n",
       "      <th>2043</th>\n",
       "      <td>__label__legalization_of_abortion</td>\n",
       "      <td>homunculus loikm sawyer andrew i do think most...</td>\n",
       "    </tr>\n",
       "    <tr>\n",
       "      <th>2044</th>\n",
       "      <td>__label__legalization_of_abortion</td>\n",
       "      <td>homunculus loikm sawyer andrew bad analog the ...</td>\n",
       "    </tr>\n",
       "    <tr>\n",
       "      <th>2045</th>\n",
       "      <td>__label__legalization_of_abortion</td>\n",
       "      <td>benigno vito veri import to pray the rosari to...</td>\n",
       "    </tr>\n",
       "    <tr>\n",
       "      <th>2046</th>\n",
       "      <td>__label__legalization_of_abortion</td>\n",
       "      <td>your bodi belong to you it doe belong to the c...</td>\n",
       "    </tr>\n",
       "    <tr>\n",
       "      <th>2047</th>\n",
       "      <td>__label__legalization_of_abortion</td>\n",
       "      <td>never dure a pregnanc doe a pregnant person bo...</td>\n",
       "    </tr>\n",
       "    <tr>\n",
       "      <th>2048</th>\n",
       "      <td>__label__legalization_of_abortion</td>\n",
       "      <td>peopl go nut on the oneperc yet their fine wit...</td>\n",
       "    </tr>\n",
       "    <tr>\n",
       "      <th>2049</th>\n",
       "      <td>__label__legalization_of_abortion</td>\n",
       "      <td>r t lisett has hope yes i will be at the rally...</td>\n",
       "    </tr>\n",
       "    <tr>\n",
       "      <th>2050</th>\n",
       "      <td>__label__legalization_of_abortion</td>\n",
       "      <td>everyon should have the right to make their ow...</td>\n",
       "    </tr>\n",
       "    <tr>\n",
       "      <th>2051</th>\n",
       "      <td>__label__legalization_of_abortion</td>\n",
       "      <td>peopl debat juvenil hyster from that woman kil...</td>\n",
       "    </tr>\n",
       "    <tr>\n",
       "      <th>2052</th>\n",
       "      <td>__label__legalization_of_abortion</td>\n",
       "      <td>peopl debat better everi child born out of mar...</td>\n",
       "    </tr>\n",
       "    <tr>\n",
       "      <th>2053</th>\n",
       "      <td>__label__legalization_of_abortion</td>\n",
       "      <td>i am in favor of women right and their right t...</td>\n",
       "    </tr>\n",
       "    <tr>\n",
       "      <th>2054</th>\n",
       "      <td>__label__legalization_of_abortion</td>\n",
       "      <td>there a gray area when it come to abort we dis...</td>\n",
       "    </tr>\n",
       "    <tr>\n",
       "      <th>2055</th>\n",
       "      <td>__label__legalization_of_abortion</td>\n",
       "      <td>you were aliv for up to month befor you were b...</td>\n",
       "    </tr>\n",
       "    <tr>\n",
       "      <th>2056</th>\n",
       "      <td>__label__legalization_of_abortion</td>\n",
       "      <td>mrgeolog they abort million of their possibl p...</td>\n",
       "    </tr>\n",
       "    <tr>\n",
       "      <th>2057</th>\n",
       "      <td>__label__legalization_of_abortion</td>\n",
       "      <td>god less xo atxbantamathi dat face sem</td>\n",
       "    </tr>\n",
       "    <tr>\n",
       "      <th>2058</th>\n",
       "      <td>__label__legalization_of_abortion</td>\n",
       "      <td>notmuchels and the unborn a r e human live com...</td>\n",
       "    </tr>\n",
       "    <tr>\n",
       "      <th>2059</th>\n",
       "      <td>__label__legalization_of_abortion</td>\n",
       "      <td>ani pregnanc can turn dead at ani time without...</td>\n",
       "    </tr>\n",
       "    <tr>\n",
       "      <th>2060</th>\n",
       "      <td>__label__legalization_of_abortion</td>\n",
       "      <td>love doe not delight in evil but rejoic in the...</td>\n",
       "    </tr>\n",
       "    <tr>\n",
       "      <th>2061</th>\n",
       "      <td>__label__legalization_of_abortion</td>\n",
       "      <td>the same peopl that demand gov stay out of the...</td>\n",
       "    </tr>\n",
       "    <tr>\n",
       "      <th>2062</th>\n",
       "      <td>__label__legalization_of_abortion</td>\n",
       "      <td>ghhshirley charg with manslaught after anoth w...</td>\n",
       "    </tr>\n",
       "    <tr>\n",
       "      <th>2063</th>\n",
       "      <td>__label__legalization_of_abortion</td>\n",
       "      <td>ghhshirley abort worker charg with manslaught ...</td>\n",
       "    </tr>\n",
       "    <tr>\n",
       "      <th>2064</th>\n",
       "      <td>__label__legalization_of_abortion</td>\n",
       "      <td>ghhshirley wordfactori leah torr abort worker ...</td>\n",
       "    </tr>\n",
       "    <tr>\n",
       "      <th>2065</th>\n",
       "      <td>__label__legalization_of_abortion</td>\n",
       "      <td>n a r a l t i m e at the same time this decis ...</td>\n",
       "    </tr>\n",
       "    <tr>\n",
       "      <th>2066</th>\n",
       "      <td>__label__legalization_of_abortion</td>\n",
       "      <td>if your agonist abort get a vasectomi sem</td>\n",
       "    </tr>\n",
       "    <tr>\n",
       "      <th>2067</th>\n",
       "      <td>__label__legalization_of_abortion</td>\n",
       "      <td>when you bring up the million black babi abort...</td>\n",
       "    </tr>\n",
       "    <tr>\n",
       "      <th>2068</th>\n",
       "      <td>__label__legalization_of_abortion</td>\n",
       "      <td>there a law protect unborn eagl but not human ...</td>\n",
       "    </tr>\n",
       "    <tr>\n",
       "      <th>2069</th>\n",
       "      <td>__label__legalization_of_abortion</td>\n",
       "      <td>i am in i have had an abort abort on demand me...</td>\n",
       "    </tr>\n",
       "    <tr>\n",
       "      <th>2070</th>\n",
       "      <td>__label__legalization_of_abortion</td>\n",
       "      <td>how dare you say my sexual prefer is a choic h...</td>\n",
       "    </tr>\n",
       "    <tr>\n",
       "      <th>2071</th>\n",
       "      <td>__label__legalization_of_abortion</td>\n",
       "      <td>equal right for those that way no right for th...</td>\n",
       "    </tr>\n",
       "    <tr>\n",
       "      <th>2072</th>\n",
       "      <td>__label__legalization_of_abortion</td>\n",
       "      <td>p o t u s seal his legaci doz win the g o p ag...</td>\n",
       "    </tr>\n",
       "  </tbody>\n",
       "</table>\n",
       "<p>2073 rows × 2 columns</p>\n",
       "</div>"
      ],
      "text/plain": [
       "                                  label  \\\n",
       "0                      __label__atheism   \n",
       "1                      __label__atheism   \n",
       "2                      __label__atheism   \n",
       "3                      __label__atheism   \n",
       "4                      __label__atheism   \n",
       "5                      __label__atheism   \n",
       "6                      __label__atheism   \n",
       "7                      __label__atheism   \n",
       "8                      __label__atheism   \n",
       "9                      __label__atheism   \n",
       "10                     __label__atheism   \n",
       "11                     __label__atheism   \n",
       "12                     __label__atheism   \n",
       "13                     __label__atheism   \n",
       "14                     __label__atheism   \n",
       "15                     __label__atheism   \n",
       "16                     __label__atheism   \n",
       "17                     __label__atheism   \n",
       "18                     __label__atheism   \n",
       "19                     __label__atheism   \n",
       "20                     __label__atheism   \n",
       "21                     __label__atheism   \n",
       "22                     __label__atheism   \n",
       "23                     __label__atheism   \n",
       "24                     __label__atheism   \n",
       "25                     __label__atheism   \n",
       "26                     __label__atheism   \n",
       "27                     __label__atheism   \n",
       "28                     __label__atheism   \n",
       "29                     __label__atheism   \n",
       "...                                 ...   \n",
       "2043  __label__legalization_of_abortion   \n",
       "2044  __label__legalization_of_abortion   \n",
       "2045  __label__legalization_of_abortion   \n",
       "2046  __label__legalization_of_abortion   \n",
       "2047  __label__legalization_of_abortion   \n",
       "2048  __label__legalization_of_abortion   \n",
       "2049  __label__legalization_of_abortion   \n",
       "2050  __label__legalization_of_abortion   \n",
       "2051  __label__legalization_of_abortion   \n",
       "2052  __label__legalization_of_abortion   \n",
       "2053  __label__legalization_of_abortion   \n",
       "2054  __label__legalization_of_abortion   \n",
       "2055  __label__legalization_of_abortion   \n",
       "2056  __label__legalization_of_abortion   \n",
       "2057  __label__legalization_of_abortion   \n",
       "2058  __label__legalization_of_abortion   \n",
       "2059  __label__legalization_of_abortion   \n",
       "2060  __label__legalization_of_abortion   \n",
       "2061  __label__legalization_of_abortion   \n",
       "2062  __label__legalization_of_abortion   \n",
       "2063  __label__legalization_of_abortion   \n",
       "2064  __label__legalization_of_abortion   \n",
       "2065  __label__legalization_of_abortion   \n",
       "2066  __label__legalization_of_abortion   \n",
       "2067  __label__legalization_of_abortion   \n",
       "2068  __label__legalization_of_abortion   \n",
       "2069  __label__legalization_of_abortion   \n",
       "2070  __label__legalization_of_abortion   \n",
       "2071  __label__legalization_of_abortion   \n",
       "2072  __label__legalization_of_abortion   \n",
       "\n",
       "                                              prep_text  \n",
       "0     dear lord thank u for all of ur bless forgiv m...  \n",
       "1     bless are the peacemak for they shall be call ...  \n",
       "2     i am not conform to this world i am transform ...  \n",
       "3     salah should be pray with focus and understand...  \n",
       "4     and stay in your hous and do not display yours...  \n",
       "5     if we are unsur whether someth is halal or har...  \n",
       "6     papa god i pray that you shower me with more p...  \n",
       "7     now that the s c o c has rule canadian have fr...  \n",
       "8     everyon is abl to believ in whatev they want f...  \n",
       "9     the best of you are those who best treat their...  \n",
       "10    r t prayerbullet let the righteous peac and jo...  \n",
       "11    s t o p hold your peac and allow the all power...  \n",
       "12    faith see the invis believ the incred and rece...  \n",
       "13    prophet muhammad said exchang gift for it will...  \n",
       "14    celebr atheism is begin to irk me initforthemo...  \n",
       "15    leav christian enabl you to love the peopl you...  \n",
       "16    clear your thought look up to the sky s o m e ...  \n",
       "17    heaven and the earth were one connect entiti t...  \n",
       "18    could all those who believ in a god pleas leav...  \n",
       "19    the devil is our enemi and our mind is the bat...  \n",
       "20    the odd are alreadi stack in our favor if we b...  \n",
       "21    when it come to scientif discoveri the religi ...  \n",
       "22    you can look at other with envi or look to god...  \n",
       "23    if the purpos of life is to becom wealthi ther...  \n",
       "24    if you do feel the need for then you do desir ...  \n",
       "25    holi mari mother of god pray for us sinner now...  \n",
       "26    holi mari mother of god pray for us sinner now...  \n",
       "27    what i see in the natur will not stop what god...  \n",
       "28    religion stop be credibl the minut the first d...  \n",
       "29    in the absenc of god what are you you are noth...  \n",
       "...                                                 ...  \n",
       "2043  homunculus loikm sawyer andrew i do think most...  \n",
       "2044  homunculus loikm sawyer andrew bad analog the ...  \n",
       "2045  benigno vito veri import to pray the rosari to...  \n",
       "2046  your bodi belong to you it doe belong to the c...  \n",
       "2047  never dure a pregnanc doe a pregnant person bo...  \n",
       "2048  peopl go nut on the oneperc yet their fine wit...  \n",
       "2049  r t lisett has hope yes i will be at the rally...  \n",
       "2050  everyon should have the right to make their ow...  \n",
       "2051  peopl debat juvenil hyster from that woman kil...  \n",
       "2052  peopl debat better everi child born out of mar...  \n",
       "2053  i am in favor of women right and their right t...  \n",
       "2054  there a gray area when it come to abort we dis...  \n",
       "2055  you were aliv for up to month befor you were b...  \n",
       "2056  mrgeolog they abort million of their possibl p...  \n",
       "2057             god less xo atxbantamathi dat face sem  \n",
       "2058  notmuchels and the unborn a r e human live com...  \n",
       "2059  ani pregnanc can turn dead at ani time without...  \n",
       "2060  love doe not delight in evil but rejoic in the...  \n",
       "2061  the same peopl that demand gov stay out of the...  \n",
       "2062  ghhshirley charg with manslaught after anoth w...  \n",
       "2063  ghhshirley abort worker charg with manslaught ...  \n",
       "2064  ghhshirley wordfactori leah torr abort worker ...  \n",
       "2065  n a r a l t i m e at the same time this decis ...  \n",
       "2066          if your agonist abort get a vasectomi sem  \n",
       "2067  when you bring up the million black babi abort...  \n",
       "2068  there a law protect unborn eagl but not human ...  \n",
       "2069  i am in i have had an abort abort on demand me...  \n",
       "2070  how dare you say my sexual prefer is a choic h...  \n",
       "2071  equal right for those that way no right for th...  \n",
       "2072  p o t u s seal his legaci doz win the g o p ag...  \n",
       "\n",
       "[2073 rows x 2 columns]"
      ]
     },
     "execution_count": 82,
     "metadata": {},
     "output_type": "execute_result"
    }
   ],
   "source": [
    "train_tokenized[\"label\"] = train_tokenized[\"text\"].apply(lambda x: x.split(\" \")[0])\n",
    "train_tokenized[\"prep_text\"] = train_tokenized[\"text\"].apply(lambda x: \" \".join(x.split(\" \")[1:]))\n",
    "train_tokenized[[\"label\",\"prep_text\"]]"
   ]
  },
  {
   "cell_type": "code",
   "execution_count": 83,
   "metadata": {},
   "outputs": [],
   "source": [
    "trainTweets[\"prep_text\"] = train_tokenized[\"prep_text\"]"
   ]
  },
  {
   "cell_type": "markdown",
   "metadata": {},
   "source": [
    "#### test tweets"
   ]
  },
  {
   "cell_type": "code",
   "execution_count": 85,
   "metadata": {},
   "outputs": [],
   "source": [
    "testTweets = testTweets[testTweets[\"Stance\"] != \"NONE\"].reset_index(drop=True)"
   ]
  },
  {
   "cell_type": "code",
   "execution_count": 86,
   "metadata": {
    "scrolled": true
   },
   "outputs": [],
   "source": [
    "test_tokenized = pd.read_csv(\"../training data/stance_classification/stance.test.preprocessed.tokenized.txt\", header = None, names=[\"text\"])"
   ]
  },
  {
   "cell_type": "code",
   "execution_count": 87,
   "metadata": {
    "scrolled": true
   },
   "outputs": [
    {
     "data": {
      "text/html": [
       "<div>\n",
       "<style scoped>\n",
       "    .dataframe tbody tr th:only-of-type {\n",
       "        vertical-align: middle;\n",
       "    }\n",
       "\n",
       "    .dataframe tbody tr th {\n",
       "        vertical-align: top;\n",
       "    }\n",
       "\n",
       "    .dataframe thead th {\n",
       "        text-align: right;\n",
       "    }\n",
       "</style>\n",
       "<table border=\"1\" class=\"dataframe\">\n",
       "  <thead>\n",
       "    <tr style=\"text-align: right;\">\n",
       "      <th></th>\n",
       "      <th>label</th>\n",
       "      <th>prep_text</th>\n",
       "    </tr>\n",
       "  </thead>\n",
       "  <tbody>\n",
       "    <tr>\n",
       "      <th>0</th>\n",
       "      <td>__label__atheism</td>\n",
       "      <td>he who exalt himself shall be humbl and he who...</td>\n",
       "    </tr>\n",
       "    <tr>\n",
       "      <th>1</th>\n",
       "      <td>__label__atheism</td>\n",
       "      <td>r t prayerbullet i remov nehushtan move of god...</td>\n",
       "    </tr>\n",
       "    <tr>\n",
       "      <th>2</th>\n",
       "      <td>__label__atheism</td>\n",
       "      <td>heidtjj benjamin live i have sought the truth ...</td>\n",
       "    </tr>\n",
       "    <tr>\n",
       "      <th>3</th>\n",
       "      <td>__label__atheism</td>\n",
       "      <td>god is utter powerless without human intervent...</td>\n",
       "    </tr>\n",
       "    <tr>\n",
       "      <th>4</th>\n",
       "      <td>__label__atheism</td>\n",
       "      <td>miracl of multicultur miracl of shadi taqiya t...</td>\n",
       "    </tr>\n",
       "    <tr>\n",
       "      <th>5</th>\n",
       "      <td>__label__atheism</td>\n",
       "      <td>this world need a tight group hug tight enough...</td>\n",
       "    </tr>\n",
       "    <tr>\n",
       "      <th>6</th>\n",
       "      <td>__label__atheism</td>\n",
       "      <td>moral is not deriv from religion it preced it ...</td>\n",
       "    </tr>\n",
       "    <tr>\n",
       "      <th>7</th>\n",
       "      <td>__label__atheism</td>\n",
       "      <td>a god husband know you trust you love you resp...</td>\n",
       "    </tr>\n",
       "    <tr>\n",
       "      <th>8</th>\n",
       "      <td>__label__atheism</td>\n",
       "      <td>secular dutchess i be your huckleberri dean mo...</td>\n",
       "    </tr>\n",
       "    <tr>\n",
       "      <th>9</th>\n",
       "      <td>__label__atheism</td>\n",
       "      <td>b i b l e big irrelev book of lie and exagger ...</td>\n",
       "    </tr>\n",
       "    <tr>\n",
       "      <th>10</th>\n",
       "      <td>__label__atheism</td>\n",
       "      <td>if onli dream were real now it gone singl beca...</td>\n",
       "    </tr>\n",
       "    <tr>\n",
       "      <th>11</th>\n",
       "      <td>__label__atheism</td>\n",
       "      <td>happi independ day to america and her beauti c...</td>\n",
       "    </tr>\n",
       "    <tr>\n",
       "      <th>12</th>\n",
       "      <td>__label__atheism</td>\n",
       "      <td>let my hous be built by wisdom and becom stron...</td>\n",
       "    </tr>\n",
       "    <tr>\n",
       "      <th>13</th>\n",
       "      <td>__label__atheism</td>\n",
       "      <td>these day the cool kid are atheist freethink sem</td>\n",
       "    </tr>\n",
       "    <tr>\n",
       "      <th>14</th>\n",
       "      <td>__label__atheism</td>\n",
       "      <td>next time you hear someon say that our found f...</td>\n",
       "    </tr>\n",
       "    <tr>\n",
       "      <th>15</th>\n",
       "      <td>__label__atheism</td>\n",
       "      <td>love islam becaus and v should love islam beca...</td>\n",
       "    </tr>\n",
       "    <tr>\n",
       "      <th>16</th>\n",
       "      <td>__label__atheism</td>\n",
       "      <td>be a sinner and sin strong but more strong hav...</td>\n",
       "    </tr>\n",
       "    <tr>\n",
       "      <th>17</th>\n",
       "      <td>__label__atheism</td>\n",
       "      <td>god my fear god my insecur god my worri god my...</td>\n",
       "    </tr>\n",
       "    <tr>\n",
       "      <th>18</th>\n",
       "      <td>__label__atheism</td>\n",
       "      <td>mari queen of martyr pray for us cathol sem</td>\n",
       "    </tr>\n",
       "    <tr>\n",
       "      <th>19</th>\n",
       "      <td>__label__atheism</td>\n",
       "      <td>america like all of us has both beauti and bru...</td>\n",
       "    </tr>\n",
       "    <tr>\n",
       "      <th>20</th>\n",
       "      <td>__label__atheism</td>\n",
       "      <td>everi life is a profess of faith and exercis a...</td>\n",
       "    </tr>\n",
       "    <tr>\n",
       "      <th>21</th>\n",
       "      <td>__label__atheism</td>\n",
       "      <td>i am baloch and i will not allow taliban in ba...</td>\n",
       "    </tr>\n",
       "    <tr>\n",
       "      <th>22</th>\n",
       "      <td>__label__atheism</td>\n",
       "      <td>he becam a slave to the cross that men could g...</td>\n",
       "    </tr>\n",
       "    <tr>\n",
       "      <th>23</th>\n",
       "      <td>__label__atheism</td>\n",
       "      <td>do not commit murder d o n o t c o m m i t a d...</td>\n",
       "    </tr>\n",
       "    <tr>\n",
       "      <th>24</th>\n",
       "      <td>__label__atheism</td>\n",
       "      <td>phew am glad we came to our sens and worship a...</td>\n",
       "    </tr>\n",
       "    <tr>\n",
       "      <th>25</th>\n",
       "      <td>__label__atheism</td>\n",
       "      <td>so that i the lord will alway rememb sem</td>\n",
       "    </tr>\n",
       "    <tr>\n",
       "      <th>26</th>\n",
       "      <td>__label__atheism</td>\n",
       "      <td>jagan nath azad a hindu was ask by founder of ...</td>\n",
       "    </tr>\n",
       "    <tr>\n",
       "      <th>27</th>\n",
       "      <td>__label__atheism</td>\n",
       "      <td>father grant us grace to remain holi and a ves...</td>\n",
       "    </tr>\n",
       "    <tr>\n",
       "      <th>28</th>\n",
       "      <td>__label__atheism</td>\n",
       "      <td>who care if this person or that person is xtia...</td>\n",
       "    </tr>\n",
       "    <tr>\n",
       "      <th>29</th>\n",
       "      <td>__label__atheism</td>\n",
       "      <td>i still rememb the day when i pray god for the...</td>\n",
       "    </tr>\n",
       "    <tr>\n",
       "      <th>...</th>\n",
       "      <td>...</td>\n",
       "      <td>...</td>\n",
       "    </tr>\n",
       "    <tr>\n",
       "      <th>989</th>\n",
       "      <td>__label__legalization_of_abortion</td>\n",
       "      <td>i am nazi holocaust survivor and i say that ab...</td>\n",
       "    </tr>\n",
       "    <tr>\n",
       "      <th>990</th>\n",
       "      <td>__label__legalization_of_abortion</td>\n",
       "      <td>feminist spag we do care about the hurt inflic...</td>\n",
       "    </tr>\n",
       "    <tr>\n",
       "      <th>991</th>\n",
       "      <td>__label__legalization_of_abortion</td>\n",
       "      <td>jax le sigh evid prove that morbid mortal rate...</td>\n",
       "    </tr>\n",
       "    <tr>\n",
       "      <th>992</th>\n",
       "      <td>__label__legalization_of_abortion</td>\n",
       "      <td>r t mathew jeann thank you your veri kind r t ...</td>\n",
       "    </tr>\n",
       "    <tr>\n",
       "      <th>993</th>\n",
       "      <td>__label__legalization_of_abortion</td>\n",
       "      <td>mathew jeann thank you your veri kind r t god ...</td>\n",
       "    </tr>\n",
       "    <tr>\n",
       "      <th>994</th>\n",
       "      <td>__label__legalization_of_abortion</td>\n",
       "      <td>lord jesus touch my life with your save power ...</td>\n",
       "    </tr>\n",
       "    <tr>\n",
       "      <th>995</th>\n",
       "      <td>__label__legalization_of_abortion</td>\n",
       "      <td>i against abort gay marriag a n d donald trump...</td>\n",
       "    </tr>\n",
       "    <tr>\n",
       "      <th>996</th>\n",
       "      <td>__label__legalization_of_abortion</td>\n",
       "      <td>hail mari full of grace the lord is with you l...</td>\n",
       "    </tr>\n",
       "    <tr>\n",
       "      <th>997</th>\n",
       "      <td>__label__legalization_of_abortion</td>\n",
       "      <td>you ca say you support women right but be agai...</td>\n",
       "    </tr>\n",
       "    <tr>\n",
       "      <th>998</th>\n",
       "      <td>__label__legalization_of_abortion</td>\n",
       "      <td>natur famili plan is plan at all sinc it just ...</td>\n",
       "    </tr>\n",
       "    <tr>\n",
       "      <th>999</th>\n",
       "      <td>__label__legalization_of_abortion</td>\n",
       "      <td>r t rand foreman it so easi to be especi when ...</td>\n",
       "    </tr>\n",
       "    <tr>\n",
       "      <th>1000</th>\n",
       "      <td>__label__legalization_of_abortion</td>\n",
       "      <td>children centr in the u k have stay play sessi...</td>\n",
       "    </tr>\n",
       "    <tr>\n",
       "      <th>1001</th>\n",
       "      <td>__label__legalization_of_abortion</td>\n",
       "      <td>liberti bleed everi one in congress should att...</td>\n",
       "    </tr>\n",
       "    <tr>\n",
       "      <th>1002</th>\n",
       "      <td>__label__legalization_of_abortion</td>\n",
       "      <td>rick santorum i do life begin at concept i lif...</td>\n",
       "    </tr>\n",
       "    <tr>\n",
       "      <th>1003</th>\n",
       "      <td>__label__legalization_of_abortion</td>\n",
       "      <td>befor i form you in the womb i knew you befor ...</td>\n",
       "    </tr>\n",
       "    <tr>\n",
       "      <th>1004</th>\n",
       "      <td>__label__legalization_of_abortion</td>\n",
       "      <td>da real moni love or these dumb showthetruth a...</td>\n",
       "    </tr>\n",
       "    <tr>\n",
       "      <th>1005</th>\n",
       "      <td>__label__legalization_of_abortion</td>\n",
       "      <td>i was an accident babi and as far as i know my...</td>\n",
       "    </tr>\n",
       "    <tr>\n",
       "      <th>1006</th>\n",
       "      <td>__label__legalization_of_abortion</td>\n",
       "      <td>fallopian not your fuckin pregnanc not your fu...</td>\n",
       "    </tr>\n",
       "    <tr>\n",
       "      <th>1007</th>\n",
       "      <td>__label__legalization_of_abortion</td>\n",
       "      <td>babi are human to support the prolif movement sem</td>\n",
       "    </tr>\n",
       "    <tr>\n",
       "      <th>1008</th>\n",
       "      <td>__label__legalization_of_abortion</td>\n",
       "      <td>well said men are play polit footbal with wome...</td>\n",
       "    </tr>\n",
       "    <tr>\n",
       "      <th>1009</th>\n",
       "      <td>__label__legalization_of_abortion</td>\n",
       "      <td>pregnant peopl have more than heartbeat they h...</td>\n",
       "    </tr>\n",
       "    <tr>\n",
       "      <th>1010</th>\n",
       "      <td>__label__legalization_of_abortion</td>\n",
       "      <td>fact vs opinion these poor soul wo be anyth in...</td>\n",
       "    </tr>\n",
       "    <tr>\n",
       "      <th>1011</th>\n",
       "      <td>__label__legalization_of_abortion</td>\n",
       "      <td>juju chang abort should never be illeg it shou...</td>\n",
       "    </tr>\n",
       "    <tr>\n",
       "      <th>1012</th>\n",
       "      <td>__label__legalization_of_abortion</td>\n",
       "      <td>laurawrpi what do u call teen hu got pregnant ...</td>\n",
       "    </tr>\n",
       "    <tr>\n",
       "      <th>1013</th>\n",
       "      <td>__label__legalization_of_abortion</td>\n",
       "      <td>the beauti of the morn seem ruin know abort cl...</td>\n",
       "    </tr>\n",
       "    <tr>\n",
       "      <th>1014</th>\n",
       "      <td>__label__legalization_of_abortion</td>\n",
       "      <td>cbrangel so you support the choic of wether or...</td>\n",
       "    </tr>\n",
       "    <tr>\n",
       "      <th>1015</th>\n",
       "      <td>__label__legalization_of_abortion</td>\n",
       "      <td>for he who aveng blood rememb he doe not ignor...</td>\n",
       "    </tr>\n",
       "    <tr>\n",
       "      <th>1016</th>\n",
       "      <td>__label__legalization_of_abortion</td>\n",
       "      <td>life is sacr on all level abort doe not comput...</td>\n",
       "    </tr>\n",
       "    <tr>\n",
       "      <th>1017</th>\n",
       "      <td>__label__legalization_of_abortion</td>\n",
       "      <td>ravensymon u refer to w e which y o u a minor ...</td>\n",
       "    </tr>\n",
       "    <tr>\n",
       "      <th>1018</th>\n",
       "      <td>__label__legalization_of_abortion</td>\n",
       "      <td>al robertson mom duck dynasti chose life as an...</td>\n",
       "    </tr>\n",
       "  </tbody>\n",
       "</table>\n",
       "<p>1019 rows × 2 columns</p>\n",
       "</div>"
      ],
      "text/plain": [
       "                                  label  \\\n",
       "0                      __label__atheism   \n",
       "1                      __label__atheism   \n",
       "2                      __label__atheism   \n",
       "3                      __label__atheism   \n",
       "4                      __label__atheism   \n",
       "5                      __label__atheism   \n",
       "6                      __label__atheism   \n",
       "7                      __label__atheism   \n",
       "8                      __label__atheism   \n",
       "9                      __label__atheism   \n",
       "10                     __label__atheism   \n",
       "11                     __label__atheism   \n",
       "12                     __label__atheism   \n",
       "13                     __label__atheism   \n",
       "14                     __label__atheism   \n",
       "15                     __label__atheism   \n",
       "16                     __label__atheism   \n",
       "17                     __label__atheism   \n",
       "18                     __label__atheism   \n",
       "19                     __label__atheism   \n",
       "20                     __label__atheism   \n",
       "21                     __label__atheism   \n",
       "22                     __label__atheism   \n",
       "23                     __label__atheism   \n",
       "24                     __label__atheism   \n",
       "25                     __label__atheism   \n",
       "26                     __label__atheism   \n",
       "27                     __label__atheism   \n",
       "28                     __label__atheism   \n",
       "29                     __label__atheism   \n",
       "...                                 ...   \n",
       "989   __label__legalization_of_abortion   \n",
       "990   __label__legalization_of_abortion   \n",
       "991   __label__legalization_of_abortion   \n",
       "992   __label__legalization_of_abortion   \n",
       "993   __label__legalization_of_abortion   \n",
       "994   __label__legalization_of_abortion   \n",
       "995   __label__legalization_of_abortion   \n",
       "996   __label__legalization_of_abortion   \n",
       "997   __label__legalization_of_abortion   \n",
       "998   __label__legalization_of_abortion   \n",
       "999   __label__legalization_of_abortion   \n",
       "1000  __label__legalization_of_abortion   \n",
       "1001  __label__legalization_of_abortion   \n",
       "1002  __label__legalization_of_abortion   \n",
       "1003  __label__legalization_of_abortion   \n",
       "1004  __label__legalization_of_abortion   \n",
       "1005  __label__legalization_of_abortion   \n",
       "1006  __label__legalization_of_abortion   \n",
       "1007  __label__legalization_of_abortion   \n",
       "1008  __label__legalization_of_abortion   \n",
       "1009  __label__legalization_of_abortion   \n",
       "1010  __label__legalization_of_abortion   \n",
       "1011  __label__legalization_of_abortion   \n",
       "1012  __label__legalization_of_abortion   \n",
       "1013  __label__legalization_of_abortion   \n",
       "1014  __label__legalization_of_abortion   \n",
       "1015  __label__legalization_of_abortion   \n",
       "1016  __label__legalization_of_abortion   \n",
       "1017  __label__legalization_of_abortion   \n",
       "1018  __label__legalization_of_abortion   \n",
       "\n",
       "                                              prep_text  \n",
       "0     he who exalt himself shall be humbl and he who...  \n",
       "1     r t prayerbullet i remov nehushtan move of god...  \n",
       "2     heidtjj benjamin live i have sought the truth ...  \n",
       "3     god is utter powerless without human intervent...  \n",
       "4     miracl of multicultur miracl of shadi taqiya t...  \n",
       "5     this world need a tight group hug tight enough...  \n",
       "6     moral is not deriv from religion it preced it ...  \n",
       "7     a god husband know you trust you love you resp...  \n",
       "8     secular dutchess i be your huckleberri dean mo...  \n",
       "9     b i b l e big irrelev book of lie and exagger ...  \n",
       "10    if onli dream were real now it gone singl beca...  \n",
       "11    happi independ day to america and her beauti c...  \n",
       "12    let my hous be built by wisdom and becom stron...  \n",
       "13     these day the cool kid are atheist freethink sem  \n",
       "14    next time you hear someon say that our found f...  \n",
       "15    love islam becaus and v should love islam beca...  \n",
       "16    be a sinner and sin strong but more strong hav...  \n",
       "17    god my fear god my insecur god my worri god my...  \n",
       "18          mari queen of martyr pray for us cathol sem  \n",
       "19    america like all of us has both beauti and bru...  \n",
       "20    everi life is a profess of faith and exercis a...  \n",
       "21    i am baloch and i will not allow taliban in ba...  \n",
       "22    he becam a slave to the cross that men could g...  \n",
       "23    do not commit murder d o n o t c o m m i t a d...  \n",
       "24    phew am glad we came to our sens and worship a...  \n",
       "25             so that i the lord will alway rememb sem  \n",
       "26    jagan nath azad a hindu was ask by founder of ...  \n",
       "27    father grant us grace to remain holi and a ves...  \n",
       "28    who care if this person or that person is xtia...  \n",
       "29    i still rememb the day when i pray god for the...  \n",
       "...                                                 ...  \n",
       "989   i am nazi holocaust survivor and i say that ab...  \n",
       "990   feminist spag we do care about the hurt inflic...  \n",
       "991   jax le sigh evid prove that morbid mortal rate...  \n",
       "992   r t mathew jeann thank you your veri kind r t ...  \n",
       "993   mathew jeann thank you your veri kind r t god ...  \n",
       "994   lord jesus touch my life with your save power ...  \n",
       "995   i against abort gay marriag a n d donald trump...  \n",
       "996   hail mari full of grace the lord is with you l...  \n",
       "997   you ca say you support women right but be agai...  \n",
       "998   natur famili plan is plan at all sinc it just ...  \n",
       "999   r t rand foreman it so easi to be especi when ...  \n",
       "1000  children centr in the u k have stay play sessi...  \n",
       "1001  liberti bleed everi one in congress should att...  \n",
       "1002  rick santorum i do life begin at concept i lif...  \n",
       "1003  befor i form you in the womb i knew you befor ...  \n",
       "1004  da real moni love or these dumb showthetruth a...  \n",
       "1005  i was an accident babi and as far as i know my...  \n",
       "1006  fallopian not your fuckin pregnanc not your fu...  \n",
       "1007  babi are human to support the prolif movement sem  \n",
       "1008  well said men are play polit footbal with wome...  \n",
       "1009  pregnant peopl have more than heartbeat they h...  \n",
       "1010  fact vs opinion these poor soul wo be anyth in...  \n",
       "1011  juju chang abort should never be illeg it shou...  \n",
       "1012  laurawrpi what do u call teen hu got pregnant ...  \n",
       "1013  the beauti of the morn seem ruin know abort cl...  \n",
       "1014  cbrangel so you support the choic of wether or...  \n",
       "1015  for he who aveng blood rememb he doe not ignor...  \n",
       "1016  life is sacr on all level abort doe not comput...  \n",
       "1017  ravensymon u refer to w e which y o u a minor ...  \n",
       "1018  al robertson mom duck dynasti chose life as an...  \n",
       "\n",
       "[1019 rows x 2 columns]"
      ]
     },
     "execution_count": 87,
     "metadata": {},
     "output_type": "execute_result"
    }
   ],
   "source": [
    "test_tokenized[\"label\"] = test_tokenized[\"text\"].apply(lambda x: x.split(\" \")[0])\n",
    "test_tokenized[\"prep_text\"] = test_tokenized[\"text\"].apply(lambda x: \" \".join(x.split(\" \")[1:]))\n",
    "test_tokenized[[\"label\",\"prep_text\"]]"
   ]
  },
  {
   "cell_type": "code",
   "execution_count": 88,
   "metadata": {},
   "outputs": [],
   "source": [
    "testTweets[\"prep_text\"] = test_tokenized[\"prep_text\"]"
   ]
  },
  {
   "cell_type": "markdown",
   "metadata": {},
   "source": [
    "#### build model for favour/against"
   ]
  },
  {
   "cell_type": "code",
   "execution_count": 95,
   "metadata": {},
   "outputs": [],
   "source": [
    "trainTweets[\"label\"] = \"__label__\"+trainTweets[\"Stance\"].apply(lambda x:x.lower())"
   ]
  },
  {
   "cell_type": "code",
   "execution_count": 97,
   "metadata": {},
   "outputs": [],
   "source": [
    "trainTweets[\"Final\"] = trainTweets[\"label\"] + \" \" + trainTweets[\"prep_text\"]"
   ]
  },
  {
   "cell_type": "code",
   "execution_count": 104,
   "metadata": {},
   "outputs": [],
   "source": [
    "trainTweets[[\"Final\"]].to_csv(\"../training data/stance_favour_against/stance.train.preprocessed.txt\",\n",
    "                             header = None, index=False, sep=\"|\",\n",
    "                             quoting = csv.QUOTE_NONE,\n",
    "                             quotechar = '',escapechar='\\\\')"
   ]
  },
  {
   "cell_type": "markdown",
   "metadata": {},
   "source": [
    "#### test set"
   ]
  },
  {
   "cell_type": "code",
   "execution_count": 101,
   "metadata": {},
   "outputs": [],
   "source": [
    "testTweets[\"label\"] = \"__label__\"+testTweets[\"Stance\"].apply(lambda x:x.lower())"
   ]
  },
  {
   "cell_type": "code",
   "execution_count": 102,
   "metadata": {},
   "outputs": [],
   "source": [
    "testTweets[\"Final\"] = testTweets[\"label\"] + \" \" + testTweets[\"prep_text\"]"
   ]
  },
  {
   "cell_type": "code",
   "execution_count": 105,
   "metadata": {},
   "outputs": [],
   "source": [
    "testTweets[[\"Final\"]].to_csv(\"../training data/stance_favour_against/stance.valid.preprocessed.txt\",\n",
    "                             header = None, index=False, sep=\"|\",\n",
    "                             quoting = csv.QUOTE_NONE,\n",
    "                             quotechar = '',escapechar='\\\\')"
   ]
  },
  {
   "cell_type": "markdown",
   "metadata": {},
   "source": [
    "#### favour/against models"
   ]
  },
  {
   "cell_type": "code",
   "execution_count": 106,
   "metadata": {},
   "outputs": [],
   "source": [
    "model = fasttext.train_supervised(input=\"../training data/stance_favour_against/stance.train.preprocessed.txt\",\n",
    "                                 lr=0.5, epoch=25, wordNgrams=2, bucket=200000, dim=50, loss='hs')"
   ]
  },
  {
   "cell_type": "code",
   "execution_count": 107,
   "metadata": {},
   "outputs": [
    {
     "data": {
      "text/plain": [
       "['__label__against', '__label__favor']"
      ]
     },
     "execution_count": 107,
     "metadata": {},
     "output_type": "execute_result"
    }
   ],
   "source": [
    "model.get_labels()"
   ]
  },
  {
   "cell_type": "code",
   "execution_count": 108,
   "metadata": {},
   "outputs": [],
   "source": [
    "model.save_model(\"../models/model_stance_favour_against.bin\")"
   ]
  },
  {
   "cell_type": "code",
   "execution_count": 110,
   "metadata": {},
   "outputs": [
    {
     "data": {
      "text/plain": [
       "(1019, 0.7311089303238469, 0.7311089303238469)"
      ]
     },
     "execution_count": 110,
     "metadata": {},
     "output_type": "execute_result"
    }
   ],
   "source": [
    "model.test(\"../training data/stance_favour_against/stance.valid.preprocessed.txt\")"
   ]
  },
  {
   "cell_type": "code",
   "execution_count": 112,
   "metadata": {},
   "outputs": [
    {
     "data": {
      "text/plain": [
       "{'precision': 0.810126582278481,\n",
       " 'recall': 0.8055944055944056,\n",
       " 'f1score': 0.8078541374474053}"
      ]
     },
     "execution_count": 112,
     "metadata": {},
     "output_type": "execute_result"
    }
   ],
   "source": [
    "model.test_label(\"../training data/stance_favour_against/stance.valid.preprocessed.txt\")['__label__against']"
   ]
  },
  {
   "cell_type": "code",
   "execution_count": 113,
   "metadata": {},
   "outputs": [
    {
     "data": {
      "text/plain": [
       "{'precision': 0.5487012987012987,\n",
       " 'recall': 0.555921052631579,\n",
       " 'f1score': 0.5522875816993464}"
      ]
     },
     "execution_count": 113,
     "metadata": {},
     "output_type": "execute_result"
    }
   ],
   "source": [
    "model.test_label(\"../training data/stance_favour_against/stance.valid.preprocessed.txt\")['__label__favor']"
   ]
  },
  {
   "cell_type": "markdown",
   "metadata": {},
   "source": [
    "### Model classification "
   ]
  },
  {
   "cell_type": "code",
   "execution_count": 41,
   "metadata": {
    "scrolled": true
   },
   "outputs": [
    {
     "name": "stderr",
     "output_type": "stream",
     "text": [
      "\n"
     ]
    }
   ],
   "source": [
    "model_classification = fasttext.load_model(\"data/06_models/model_classification.bin\")"
   ]
  },
  {
   "cell_type": "code",
   "execution_count": 42,
   "metadata": {
    "scrolled": false
   },
   "outputs": [
    {
     "data": {
      "text/plain": [
       "(812, 0.4027093596059113, 0.4027093596059113)"
      ]
     },
     "execution_count": 42,
     "metadata": {},
     "output_type": "execute_result"
    }
   ],
   "source": [
    "model_classification.test(\"data/05_model_input/stanceclassification.test.preprocessed.tokenized.txt\")"
   ]
  },
  {
   "cell_type": "markdown",
   "metadata": {},
   "source": [
    "### Model favor against"
   ]
  },
  {
   "cell_type": "code",
   "execution_count": 4,
   "metadata": {},
   "outputs": [
    {
     "name": "stderr",
     "output_type": "stream",
     "text": [
      "\n"
     ]
    }
   ],
   "source": [
    "model_favour_against = fasttext.load_model(\"data/06_models/model_favour_against.bin\")"
   ]
  },
  {
   "cell_type": "code",
   "execution_count": 5,
   "metadata": {
    "scrolled": false
   },
   "outputs": [
    {
     "data": {
      "text/plain": [
       "(('__label__none',), array([0.88134712]))"
      ]
     },
     "execution_count": 5,
     "metadata": {},
     "output_type": "execute_result"
    }
   ],
   "source": [
    "model_favour_against.predict(\"data/05_model_input/stancefavour_against.test.preprocessed.tokenized.txt\")"
   ]
  },
  {
   "cell_type": "markdown",
   "metadata": {},
   "source": [
    "### Model opinion towards "
   ]
  },
  {
   "cell_type": "code",
   "execution_count": 6,
   "metadata": {},
   "outputs": [
    {
     "name": "stderr",
     "output_type": "stream",
     "text": [
      "\n"
     ]
    }
   ],
   "source": [
    "model_opinion_towards = fasttext.load_model(\"data/06_models/model_opinion_towards.bin\")"
   ]
  },
  {
   "cell_type": "code",
   "execution_count": 7,
   "metadata": {
    "scrolled": false
   },
   "outputs": [
    {
     "data": {
      "text/plain": [
       "(812, 0.5061576354679803, 0.5061576354679803)"
      ]
     },
     "execution_count": 7,
     "metadata": {},
     "output_type": "execute_result"
    }
   ],
   "source": [
    "model_opinion_towards.test(\"data/05_model_input/stanceopinion_towards.test.preprocessed.tokenized.txt\")"
   ]
  },
  {
   "cell_type": "markdown",
   "metadata": {},
   "source": [
    "### Model sentiment"
   ]
  },
  {
   "cell_type": "code",
   "execution_count": 8,
   "metadata": {
    "scrolled": true
   },
   "outputs": [
    {
     "name": "stderr",
     "output_type": "stream",
     "text": [
      "\n"
     ]
    }
   ],
   "source": [
    "model_sentiment = fasttext.load_model(\"data/06_models/model_sentiment.bin\")"
   ]
  },
  {
   "cell_type": "code",
   "execution_count": 9,
   "metadata": {
    "scrolled": true
   },
   "outputs": [
    {
     "data": {
      "text/plain": [
       "(812, 0.5788177339901478, 0.5788177339901478)"
      ]
     },
     "execution_count": 9,
     "metadata": {},
     "output_type": "execute_result"
    }
   ],
   "source": [
    "model_sentiment.test(\"data/05_model_input/stancesentiment.test.preprocessed.tokenized.txt\")"
   ]
  },
  {
   "cell_type": "markdown",
   "metadata": {},
   "source": [
    "### Accuracy of trained models"
   ]
  },
  {
   "cell_type": "code",
   "execution_count": 22,
   "metadata": {},
   "outputs": [],
   "source": [
    "df = pd.read_csv(\"C:\\\\Users\\\\Mateusz\\\\OneDrive\\\\Informatyka 6 semestr\\\\stance-tagger-kedro\\\\stance-tagger-kedro\\\\data\\\\01_raw\\\\stances.csv\")"
   ]
  },
  {
   "cell_type": "code",
   "execution_count": 30,
   "metadata": {},
   "outputs": [
    {
     "data": {
      "text/plain": [
       "AGAINST    2057\n",
       "FAVOR      1035\n",
       "NONE        971\n",
       "Name: Stance, dtype: int64"
      ]
     },
     "execution_count": 30,
     "metadata": {},
     "output_type": "execute_result"
    }
   ],
   "source": [
    "df['Stance'].value_counts()"
   ]
  },
  {
   "cell_type": "code",
   "execution_count": 35,
   "metadata": {},
   "outputs": [],
   "source": [
    "df_ind_no_stance = df[((df['Opinion towards'] == 'NO ONE') & (df['Stance'] == 'NONE'))].index"
   ]
  },
  {
   "cell_type": "code",
   "execution_count": 37,
   "metadata": {},
   "outputs": [],
   "source": [
    "df.loc[df_ind_no_stance, 'Target'] = 'None'"
   ]
  },
  {
   "cell_type": "code",
   "execution_count": 38,
   "metadata": {},
   "outputs": [
    {
     "data": {
      "text/plain": [
       "Feminist Movement                   911\n",
       "Hillary Clinton                     898\n",
       "Legalization of Abortion            838\n",
       "Atheism                             708\n",
       "Climate Change is a Real Concern    520\n",
       "None                                188\n",
       "Name: Target, dtype: int64"
      ]
     },
     "execution_count": 38,
     "metadata": {},
     "output_type": "execute_result"
    }
   ],
   "source": [
    "df['Target'].value_counts()"
   ]
  },
  {
   "cell_type": "code",
   "execution_count": 40,
   "metadata": {},
   "outputs": [],
   "source": [
    "df.to_csv(\"C:\\\\Users\\\\Mateusz\\\\OneDrive\\\\Informatyka 6 semestr\\\\stance-tagger-kedro\\\\stance-tagger-kedro\\\\data\\\\01_raw\\\\stances_modified.csv\", index=False)"
   ]
  }
 ],
 "metadata": {
  "kernelspec": {
   "display_name": "StanceTaggerKedro",
   "language": "python",
   "name": "python3"
  },
  "language_info": {
   "codemirror_mode": {
    "name": "ipython",
    "version": 3
   },
   "file_extension": ".py",
   "mimetype": "text/x-python",
   "name": "python",
   "nbconvert_exporter": "python",
   "pygments_lexer": "ipython3",
   "version": "3.6.5"
  },
  "toc": {
   "base_numbering": 1,
   "nav_menu": {},
   "number_sections": true,
   "sideBar": true,
   "skip_h1_title": false,
   "title_cell": "Table of Contents",
   "title_sidebar": "Contents",
   "toc_cell": false,
   "toc_position": {},
   "toc_section_display": true,
   "toc_window_display": true
  }
 },
 "nbformat": 4,
 "nbformat_minor": 2
}
